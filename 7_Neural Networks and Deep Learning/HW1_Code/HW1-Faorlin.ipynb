{
 "cells": [
  {
   "cell_type": "markdown",
   "metadata": {
    "id": "zYncZVOyF8Rb"
   },
   "source": [
    "# NEURAL NETWORKS AND DEEP LEARNING\n",
    "\n",
    "---\n",
    "A.A. 2021/22 (6 CFU) - Dr. Alberto Testolin, Dr. Umberto Michieli\n",
    "---\n"
   ]
  },
  {
   "cell_type": "code",
   "execution_count": null,
   "metadata": {
    "id": "3ViQh-gfzxNH"
   },
   "outputs": [],
   "source": [
    "#BASIC TOOLS\n",
    "import pandas as pd                 #pandas library\n",
    "import numpy as np                  #numpy library\n",
    "import matplotlib.pyplot as plt    #plotting library\n",
    "import random\n",
    "import seaborn as sns\n",
    "from scipy.stats import loguniform \n",
    "\n",
    "#CUSTOM LIBRARIES\n",
    "import models\n",
    "import utils\n",
    "\n",
    "#PYTORCH\n",
    "import torch\n",
    "import torch.nn as nn\n",
    "import torch.optim as optim\n",
    "from torch.utils.data import DataLoader, SubsetRandomSampler\n",
    "from torchvision import transforms\n",
    "import torchvision\n",
    "from torch.optim.lr_scheduler import ExponentialLR\n",
    "\n",
    "#SKORCH\n",
    "from skorch import NeuralNetClassifier, NeuralNet\n",
    "from skorch.callbacks import LRScheduler, EarlyStopping\n",
    "from skorch.dataset import CVSplit\n",
    "\n",
    "#SKLEARN\n",
    "from sklearn.metrics import confusion_matrix, accuracy_score\n",
    "from sklearn.model_selection import KFold, RandomizedSearchCV, ShuffleSplit\n",
    "\n",
    "#fixing a seed for reproducibility\n",
    "np.random.seed(1)\n",
    "torch.manual_seed(0)\n",
    "\n",
    "device = torch.device(\"cuda\") if torch.cuda.is_available() else torch.device(\"cpu\")\n",
    "sns.set(rc={'figure.figsize':(6,4)})"
   ]
  },
  {
   "cell_type": "markdown",
   "metadata": {},
   "source": [
    "# Regression task"
   ]
  },
  {
   "cell_type": "code",
   "execution_count": 192,
   "metadata": {
    "id": "a-FdEP-JxwEu"
   },
   "outputs": [],
   "source": [
    "#load train and test set already splitted\n",
    "train_df = pd.read_csv('regression_dataset/train_data.csv')\n",
    "test_df  = pd.read_csv('regression_dataset/test_data.csv')"
   ]
  },
  {
   "cell_type": "code",
   "execution_count": 193,
   "metadata": {},
   "outputs": [
    {
     "data": {
      "text/html": [
       "<div>\n",
       "<style scoped>\n",
       "    .dataframe tbody tr th:only-of-type {\n",
       "        vertical-align: middle;\n",
       "    }\n",
       "\n",
       "    .dataframe tbody tr th {\n",
       "        vertical-align: top;\n",
       "    }\n",
       "\n",
       "    .dataframe thead th {\n",
       "        text-align: right;\n",
       "    }\n",
       "</style>\n",
       "<table border=\"1\" class=\"dataframe\">\n",
       "  <thead>\n",
       "    <tr style=\"text-align: right;\">\n",
       "      <th></th>\n",
       "      <th>input</th>\n",
       "      <th>label</th>\n",
       "    </tr>\n",
       "  </thead>\n",
       "  <tbody>\n",
       "    <tr>\n",
       "      <th>0</th>\n",
       "      <td>-4.787870</td>\n",
       "      <td>-1.216804</td>\n",
       "    </tr>\n",
       "    <tr>\n",
       "      <th>1</th>\n",
       "      <td>-3.509057</td>\n",
       "      <td>3.277581</td>\n",
       "    </tr>\n",
       "    <tr>\n",
       "      <th>2</th>\n",
       "      <td>-3.855373</td>\n",
       "      <td>2.621375</td>\n",
       "    </tr>\n",
       "    <tr>\n",
       "      <th>3</th>\n",
       "      <td>-4.083518</td>\n",
       "      <td>1.046088</td>\n",
       "    </tr>\n",
       "    <tr>\n",
       "      <th>4</th>\n",
       "      <td>-4.230588</td>\n",
       "      <td>1.228874</td>\n",
       "    </tr>\n",
       "  </tbody>\n",
       "</table>\n",
       "</div>"
      ],
      "text/plain": [
       "      input     label\n",
       "0 -4.787870 -1.216804\n",
       "1 -3.509057  3.277581\n",
       "2 -3.855373  2.621375\n",
       "3 -4.083518  1.046088\n",
       "4 -4.230588  1.228874"
      ]
     },
     "execution_count": 193,
     "metadata": {},
     "output_type": "execute_result"
    }
   ],
   "source": [
    "#first 5 entries of training dataframe\n",
    "train_df.head(5)"
   ]
  },
  {
   "cell_type": "code",
   "execution_count": 243,
   "metadata": {},
   "outputs": [
    {
     "data": {
      "image/png": "[encoded data removed]",
      "text/plain": [
       "<Figure size 432x288 with 1 Axes>"
      ]
     },
     "metadata": {},
     "output_type": "display_data"
    },
    {
     "data": {
      "image/png": "[encoded data removed]",
      "text/plain": [
       "<Figure size 432x288 with 1 Axes>"
      ]
     },
     "metadata": {},
     "output_type": "display_data"
    }
   ],
   "source": [
    "#plot the training points\n",
    "train_df.plot(x = \"input\", y = \"label\", kind = \"scatter\", title = \"Training Dataset\", legend = True, label = \"Training points\", xlabel = '$x$', ylabel = '$\\hat{y}$', color = 'blue')\n",
    "plt.savefig('training_points.pdf')\n",
    "test_df.plot(x = \"input\", y = \"label\", kind = \"scatter\", title = \"Test Dataset\", legend = True, label = \"Test points\", xlabel = '$x$', ylabel = '$\\hat{y}$', color = 'red')\n",
    "plt.savefig('test_points.pdf')"
   ]
  },
  {
   "cell_type": "code",
   "execution_count": 195,
   "metadata": {},
   "outputs": [],
   "source": [
    "#subdivide the training in effective training 80% and validation 20%\n",
    "train_df_temp = train_df.sample(frac = 0.8)\n",
    "validation_df = train_df.drop(train_df_temp.index)\n",
    "train_df      = train_df_temp\n",
    "\n",
    "composed_transform = transforms.Compose([utils.ToTensor()])\n",
    "\n",
    "#transform to tensor\n",
    "train_dataset      = utils.CsvDataset(train_df,      transform = composed_transform)\n",
    "validation_dataset = utils.CsvDataset(validation_df, transform = composed_transform)\n",
    "test_dataset       = utils.CsvDataset(test_df,       transform = composed_transform)"
   ]
  },
  {
   "cell_type": "code",
   "execution_count": 196,
   "metadata": {},
   "outputs": [],
   "source": [
    "#instantiate the dataloaders\n",
    "train_dataloader      = DataLoader(train_dataset, \n",
    "                                   batch_size = 7, \n",
    "                                   shuffle = True, \n",
    "                                   num_workers = 0\n",
    "                                   )\n",
    "validation_dataloader = DataLoader(validation_dataset, \n",
    "                                   batch_size = len(validation_dataset), \n",
    "                                   shuffle = True, \n",
    "                                   num_workers = 0\n",
    "                                   )\n",
    "test_dataloader       = DataLoader(test_dataset,  \n",
    "                                   batch_size=len(test_dataset), \n",
    "                                   shuffle=False, \n",
    "                                   num_workers=0\n",
    "                                   )"
   ]
  },
  {
   "cell_type": "code",
   "execution_count": 50,
   "metadata": {},
   "outputs": [],
   "source": [
    "#network for the first simple and non-optimized model\n",
    "net_par = {'Ninp':       1,\n",
    "           'Nh1':        16,\n",
    "           'Nh2':        16,\n",
    "           'Nout':       1,\n",
    "           'act_func':   nn.ReLU()\n",
    "           }\n",
    "\n",
    "net = models.FullyConnectedNeuralNetSimple(net_par)\n",
    "net.to(device)\n",
    "\n",
    "hyp_par = {'num_epochs': 2000,\n",
    "           'device':     device,\n",
    "           'loss_fn':    nn.L1Loss(),\n",
    "           'opt':        optim.Adam(net.parameters(), lr=0.003)\n",
    "           }"
   ]
  },
  {
   "cell_type": "code",
   "execution_count": 42,
   "metadata": {},
   "outputs": [
    {
     "name": "stderr",
     "output_type": "stream",
     "text": [
      "100%|██████████| 2000/2000 [00:49<00:00, 40.41it/s]\n"
     ]
    }
   ],
   "source": [
    "train_loss, val_loss = net.fit(train_dataloader, validation_dataloader, hyp_par)"
   ]
  },
  {
   "cell_type": "code",
   "execution_count": 48,
   "metadata": {},
   "outputs": [
    {
     "data": {
      "image/png": "[encoded data removed]",
      "text/plain": [
       "<Figure size 432x288 with 1 Axes>"
      ]
     },
     "metadata": {},
     "output_type": "display_data"
    }
   ],
   "source": [
    "utils.PlotLoss(train_loss, 'Train')\n",
    "utils.PlotLoss(val_loss, 'Validation')"
   ]
  },
  {
   "cell_type": "code",
   "execution_count": 49,
   "metadata": {},
   "outputs": [],
   "source": [
    "#input vector\n",
    "x_vec = torch.linspace(-5,5,1000)\n",
    "x_vec = x_vec.to(device)\n",
    "x_vec = x_vec.unsqueeze(-1)  # Adding a dimension to the input vector\n",
    "\n",
    "#network output\n",
    "net.eval()                   #switch for some specific layers/parts of the model that behave differently during training and inference\n",
    "with torch.no_grad():        # turn off gradients computation\n",
    "    y_vec = net(x_vec)\n",
    "\n",
    "#convert x_vec and y_vec to numpy one dimensional arrays\n",
    "x_vec = x_vec.squeeze().cpu().numpy()\n",
    "y_vec = y_vec.squeeze().cpu().numpy()"
   ]
  },
  {
   "cell_type": "code",
   "execution_count": 50,
   "metadata": {},
   "outputs": [
    {
     "data": {
      "image/png": "[encoded data removed]",
      "text/plain": [
       "<Figure size 432x288 with 1 Axes>"
      ]
     },
     "metadata": {},
     "output_type": "display_data"
    }
   ],
   "source": [
    "plt.plot(x_vec, y_vec, label='Network output', color='black',lw=3)\n",
    "\n",
    "plt.scatter(train_df['input'],train_df['label'], label='Train points', color='blue')\n",
    "plt.scatter(test_df['input'],test_df['label'], alpha=0.4, label='Test points', color='red')\n",
    "plt.xlabel('x')\n",
    "plt.ylabel(r'$\\hat{y}$')\n",
    "plt.grid()\n",
    "plt.legend()\n",
    "plt.title('Result for the fitting FCN on the data points')\n",
    "plt.savefig('overfit_dummy_model.pdf')"
   ]
  },
  {
   "cell_type": "markdown",
   "metadata": {},
   "source": [
    "## Grid search"
   ]
  },
  {
   "cell_type": "code",
   "execution_count": 7,
   "metadata": {},
   "outputs": [],
   "source": [
    "def random_choice(dict):\n",
    "    '''\n",
    "    \n",
    "    Selects at random a set of parameters from a given dictionary 'dict'\n",
    "    \n",
    "    '''\n",
    "    par = {} \n",
    "    for key, value in dict.items():\n",
    "        par[key]=random.choice(value)\n",
    "    return par\n",
    "\n",
    "def random_GS(grid, dataset):\n",
    "    '''\n",
    "\n",
    "    -> Performs a grid search over a grid of parameters\n",
    "       and on a given dataset in input (the full training dataset, that\n",
    "       will be automatically splitted in a KFold cross-validation fashion.) \n",
    "\n",
    "    Parameters:\n",
    "    train_dl    - train DataLoader\n",
    "    test_dl     - test DataLoader\n",
    "    hyp_par     - other simulation hyperparameters:\n",
    "                        num_epochs - number of epochs\n",
    "                        device     - CPU or GPU (if possible)\n",
    "                        opt        - optimizer\n",
    "                        loss_fn    - loss function\n",
    "    \n",
    "    '''\n",
    "\n",
    "    h_n = grid['net']           #selecting network hyperparameter\n",
    "    h_l = grid['learning']      #selecting simulation hyperparameter\n",
    "\n",
    "    #list with parameters of each model \n",
    "    net_params     = []\n",
    "    #list with train loss of each model \n",
    "    train_loss_log = []\n",
    "    #list with validation loss of each model \n",
    "    val_loss_log   = []\n",
    "    \n",
    "    #loop over n models\n",
    "    for ii in range(h_l['n_models'][0]):\n",
    "\n",
    "        print('Trying model number', ii+1)\n",
    "\n",
    "        #choose parameters at random from the grid\n",
    "        n_params = random_choice(h_n)\n",
    "        l_params = random_choice(h_l)\n",
    "\n",
    "        #total dictionary to append at the end\n",
    "        total_params = {'net':n_params, 'learning':l_params}\n",
    "        print(total_params)\n",
    "        \n",
    "        kf = KFold(h_l['folds'][0], shuffle=True)\n",
    "       \n",
    "        #np.array with train loss computed on each fold \n",
    "        train_loss_ff = np.zeros((h_l['folds'][0], h_l['num_epochs'][0]))\n",
    "        #np.array with validation loss computed on each fold\n",
    "        val_loss_ff   = np.zeros((h_l['folds'][0], h_l['num_epochs'][0]))\n",
    "        \n",
    "        #loop over the folds\n",
    "        for ff, (ff_train, ff_validation) in enumerate(kf.split(dataset)):\n",
    "\n",
    "            train_subsampler = SubsetRandomSampler(ff_train)\n",
    "            valid_subsampler = SubsetRandomSampler(ff_validation)\n",
    "\n",
    "            # define data loaders\n",
    "            train_dataloader = DataLoader(dataset, batch_size=int(l_params['batch_size']), sampler=train_subsampler)\n",
    "            validation_dataloader = DataLoader(dataset, batch_size=int(l_params['batch_size']), sampler=valid_subsampler)   \n",
    "\n",
    "            net = models.FullyConnectedNeuralNet(n_params).to(l_params['device'])\n",
    "            net.reset()\n",
    "            #optimizer selection\n",
    "            if   l_params['opt']=='SGD':\n",
    "                optimizer = optim.SGD(net.parameters(), lr=l_params['lr'], momentum=0.9, weight_decay=l_params['reg'])\n",
    "            elif l_params['opt']=='Adam':\n",
    "                optimizer = optim.Adam(net.parameters(), lr=l_params['lr'], weight_decay=l_params['reg'])\n",
    "            elif l_params['opt']=='RMSprop':\n",
    "                optimizer = optim.RMSprop(net.parameters(), lr=l_params['lr'], weight_decay=l_params['reg'])\n",
    "\n",
    "            #build the dictionary useful for net.fit\n",
    "            hyp_par = {'num_epochs': l_params['num_epochs'],\n",
    "                       'device':     l_params['device'],\n",
    "                       'loss_fn':    nn.MSELoss(),\n",
    "                       'opt':        optimizer\n",
    "                    }\n",
    "\n",
    "            train_loss, val_loss = net.fit(train_dataloader, validation_dataloader, hyp_par)\n",
    "\n",
    "            train_loss_ff[ff] = train_loss\n",
    "            val_loss_ff[ff] = val_loss\n",
    "\n",
    "        train_loss_log.append(np.mean(train_loss_ff, 0))\n",
    "        val_loss_log.append(np.mean(val_loss_ff, 0))\n",
    "        net_params.append(total_params)\n",
    "        print(np.mean(np.mean(train_loss_ff, 0)))\n",
    "        \n",
    "    return net_params, train_loss_log, val_loss_log"
   ]
  },
  {
   "cell_type": "code",
   "execution_count": null,
   "metadata": {},
   "outputs": [],
   "source": [
    "#on each model sampled from the grid we perform a k=5 cross-validation\n",
    "grid = {'net':    {'Ninp':       [1],\n",
    "                   'Nh1':        [4, 8, 16],\n",
    "                   'Nh2':        [4, 8, 16],\n",
    "                   'Nh3':        [4, 8, 16],\n",
    "                   'Nout':       [1],\n",
    "                   'act_func':   [nn.ReLU(), nn.LeakyReLU()]\n",
    "                   },\n",
    "\n",
    "       'learning':{'n_models':   [400],\n",
    "                   'batch_size': [5,7,9,10],\n",
    "                   'num_epochs': [300],\n",
    "                   'folds':      [5],\n",
    "                   'device':     [device],\n",
    "                   'opt':        ['SGD', 'Adam', 'RMSprop'],\n",
    "                   'lr':         loguniform.rvs(1e-4, 1e-1, size=100),\n",
    "                   'reg':        loguniform.rvs(1e-5, 1e-1, size=100)\n",
    "                   }\n",
    "       }\n",
    "\n",
    "#load again the train set since we don't need the split in train and validation\n",
    "train_df = pd.read_csv('regression_dataset/train_data.csv')\n",
    "\n",
    "train_dataset = utils.CsvDataset(train_df, transform=composed_transform)\n",
    "\n",
    "#uncomment to run the cell\n",
    "#net_params, train_losses, val_losses = random_GS(grid, train_dataset)"
   ]
  },
  {
   "cell_type": "markdown",
   "metadata": {},
   "source": [
    "## Results"
   ]
  },
  {
   "cell_type": "code",
   "execution_count": 467,
   "metadata": {},
   "outputs": [
    {
     "name": "stdout",
     "output_type": "stream",
     "text": [
      "Minimum average validation losses (top 10): [0.58352626 0.59993234 0.61293288 0.63547924 0.63965571 0.64540086\n",
      " 0.66161008 0.66243439 0.6643499  0.66693631]\n",
      "Best parameter: {'net': {'Ninp': 1, 'Nh1': 16, 'Nh2': 16, 'Nh3': 16, 'Nout': 1, 'drop_prob': 0.0008194254573277526, 'act_func': ReLU()}, 'learning': {'n_models': 400, 'batch_size': 10, 'num_epochs': 300, 'folds': 5, 'device': device(type='cpu'), 'opt': 'Adam', 'lr': 0.012010348166177666, 'reg': 0.0004419953086109655}}\n"
     ]
    }
   ],
   "source": [
    "avg_val_loss = [np.mean(vl) for vl in val_losses]\n",
    "best_n_l_par = net_params[np.where(avg_val_loss==np.sort(avg_val_loss)[:10][0])[0][0]]\n",
    "\n",
    "print('Minimum average validation losses (top 10):', np.sort(avg_val_loss)[:10])\n",
    "print('Best parameter:', best_n_l_par)"
   ]
  },
  {
   "cell_type": "code",
   "execution_count": 530,
   "metadata": {},
   "outputs": [],
   "source": [
    "#train a model built on the best parameters, on more epochs \n",
    "net = models.FullyConnectedNeuralNet(best_n_l_par['net']).to(best_n_l_par['learning']['device'])\n",
    "#reset network weights\n",
    "net.reset()\n",
    "\n",
    "if   best_n_l_par['learning']['opt']=='SGD':\n",
    "    optimizer = optim.SGD(net.parameters(), \n",
    "                           lr=best_n_l_par['learning']['lr'], \n",
    "                           momentum=0.9, \n",
    "                           weight_decay=best_n_l_par['learning']['reg']\n",
    "                           )\n",
    "elif best_n_l_par['learning']['opt']=='Adam':\n",
    "    optimizer = optim.Adam(net.parameters(),\n",
    "                           lr = best_n_l_par['learning']['lr'], \n",
    "                           weight_decay = best_n_l_par['learning']['reg']\n",
    "                           )\n",
    "elif best_n_l_par['learning']['opt']=='RMSprop':\n",
    "    optimizer = optim.RMSprop(net.parameters(),\n",
    "                              lr = best_n_l_par['learning']['lr'], \n",
    "                              weight_decay = best_n_l_par['learning']['reg']\n",
    "                              )\n",
    "                              \n",
    "hyp_par = {'num_epochs': 500,\n",
    "           'device':     best_n_l_par['learning']['device'],\n",
    "           'loss_fn':    nn.L1Loss(),\n",
    "           'opt':        optimizer\n",
    "           }"
   ]
  },
  {
   "cell_type": "code",
   "execution_count": 531,
   "metadata": {},
   "outputs": [],
   "source": [
    "#register initialized weights for the final plot\n",
    "w_h1_init=net.h1.weight.detach().cpu().numpy().flatten()\n",
    "w_h2_init=net.h2.weight.detach().cpu().numpy().flatten()\n",
    "w_h3_init=net.h3.weight.detach().cpu().numpy().flatten()\n",
    "w_out_init=net.out.weight.detach().cpu().numpy().flatten()"
   ]
  },
  {
   "cell_type": "markdown",
   "metadata": {},
   "source": [
    "The stage is set! We now load again the data and perform the fitting."
   ]
  },
  {
   "cell_type": "code",
   "execution_count": 532,
   "metadata": {},
   "outputs": [],
   "source": [
    "#load train and test set already splitted\n",
    "train_df = pd.read_csv('regression_dataset/train_data.csv')\n",
    "\n",
    "\n",
    "train_df_temp = train_df.sample(frac = 0.8)\n",
    "validation_df = train_df.drop(train_df_temp.index)\n",
    "train_df      = train_df_temp\n",
    "\n",
    "\n",
    "composed_transform = transforms.Compose([utils.ToTensor()])\n",
    "\n",
    "train_dataset      = utils.CsvDataset(train_df,      transform=composed_transform)\n",
    "validation_dataset = utils.CsvDataset(validation_df, transform=composed_transform)\n",
    "\n",
    "train_dataloader = DataLoader(train_dataset, \n",
    "                                batch_size=best_n_l_par['learning']['batch_size'], \n",
    "                                shuffle=True,\n",
    "                                num_workers=0\n",
    "                                )\n",
    "validation_dataloader = DataLoader(validation_dataset, \n",
    "                                   batch_size = len(validation_dataset), \n",
    "                                   shuffle = True, \n",
    "                                   num_workers = 0\n",
    "                                   )"
   ]
  },
  {
   "cell_type": "code",
   "execution_count": 533,
   "metadata": {},
   "outputs": [
    {
     "name": "stderr",
     "output_type": "stream",
     "text": [
      "100%|██████████| 500/500 [00:16<00:00, 29.44it/s]\n"
     ]
    }
   ],
   "source": [
    "train_loss_best, val_loss_best = net.fit(train_dataloader, validation_dataloader, hyp_par)"
   ]
  },
  {
   "cell_type": "code",
   "execution_count": 534,
   "metadata": {},
   "outputs": [
    {
     "data": {
      "image/png": "[encoded data removed]",
      "text/plain": [
       "<Figure size 432x288 with 1 Axes>"
      ]
     },
     "metadata": {},
     "output_type": "display_data"
    }
   ],
   "source": [
    "utils.PlotLoss(train_loss_best, 'Train')\n",
    "utils.PlotLoss(val_loss_best, 'Validation')"
   ]
  },
  {
   "cell_type": "code",
   "execution_count": 535,
   "metadata": {},
   "outputs": [],
   "source": [
    "# Input vector\n",
    "x_vec = torch.linspace(-5,5,1000)\n",
    "x_vec = x_vec.to(device)\n",
    "x_vec = x_vec.unsqueeze(-1)  # Adding a dimension to the input vector\n",
    "\n",
    "net.eval()\n",
    "with torch.no_grad(): # turn off gradients computation\n",
    "    y_vec = net(x_vec)\n",
    "\n",
    "# Convert x_vec and y_vec to numpy one dimensional arrays\n",
    "x_vec = x_vec.squeeze().cpu().numpy()\n",
    "y_vec = y_vec.squeeze().cpu().numpy()"
   ]
  },
  {
   "cell_type": "code",
   "execution_count": 536,
   "metadata": {},
   "outputs": [
    {
     "data": {
      "image/png": "[encoded data removed]",
      "text/plain": [
       "<Figure size 432x288 with 1 Axes>"
      ]
     },
     "metadata": {},
     "output_type": "display_data"
    }
   ],
   "source": [
    "plt.plot(x_vec, y_vec, label='Network output', color='black',lw=3)\n",
    "\n",
    "plt.scatter(train_df['input'],train_df['label'], label='Train points', color='blue')\n",
    "plt.scatter(test_df['input'],test_df['label'], alpha=0.4, label='Test points', color='red')\n",
    "plt.xlabel('x')\n",
    "plt.ylabel(r'$\\hat{y}$')\n",
    "plt.grid()\n",
    "plt.legend()\n",
    "plt.title('Result for the fitting FCN on the data points')\n",
    "plt.savefig('fit_complex_model.pdf')"
   ]
  },
  {
   "cell_type": "markdown",
   "metadata": {},
   "source": [
    "## Layer weights"
   ]
  },
  {
   "cell_type": "code",
   "execution_count": 480,
   "metadata": {},
   "outputs": [
    {
     "data": {
      "image/png": "[encoded data removed]",
      "text/plain": [
       "<Figure size 432x288 with 1 Axes>"
      ]
     },
     "metadata": {},
     "output_type": "display_data"
    }
   ],
   "source": [
    "# plt.hist(net.h1.weight.detach().cpu().numpy().flatten())\n",
    "# plt.savefig('first_layer.pdf')\n",
    "# plt.hist(net.h2.weight.detach().cpu().numpy().flatten())\n",
    "# plt.savefig('second_layer.pdf')\n",
    "# plt.hist(net.h3.weight.detach().cpu().numpy().flatten())\n",
    "# plt.savefig('third_layer.pdf')\n",
    "plt.hist(w_h3_init, alpha=0.4, label='Initialized')\n",
    "plt.hist(net.h3.weight.detach().cpu().numpy().flatten(), alpha=0.8, label='Trained')\n",
    "plt.title('Third hidden layer weights')\n",
    "plt.legend()\n",
    "plt.savefig('third_layer.pdf')"
   ]
  },
  {
   "cell_type": "markdown",
   "metadata": {},
   "source": [
    "## Activation profiles"
   ]
  },
  {
   "cell_type": "code",
   "execution_count": 537,
   "metadata": {},
   "outputs": [],
   "source": [
    "activation = {}\n",
    "\n",
    "def getActivation(name):\n",
    "    '''\n",
    "    \n",
    "    Retrieve activations to for the activation profiles\n",
    "    \n",
    "    '''\n",
    "    def hook(model, input, output):\n",
    "        activation[name] = output.detach()\n",
    "    return hook"
   ]
  },
  {
   "cell_type": "code",
   "execution_count": 538,
   "metadata": {},
   "outputs": [],
   "source": [
    "#register the activations for each layer\n",
    "h1 = net.h1.register_forward_hook(getActivation('h1'))\n",
    "h2 = net.h2.register_forward_hook(getActivation('h2'))\n",
    "h3 = net.h3.register_forward_hook(getActivation('h3'))\n",
    "out = net.out.register_forward_hook(getActivation('out'))"
   ]
  },
  {
   "cell_type": "code",
   "execution_count": 539,
   "metadata": {},
   "outputs": [],
   "source": [
    "x = np.linspace(-5, 5, 1000, dtype=np.float32)\n",
    "y = net(torch.tensor(x).unsqueeze(1))"
   ]
  },
  {
   "cell_type": "code",
   "execution_count": 590,
   "metadata": {},
   "outputs": [
    {
     "data": {
      "image/png": "[encoded data removed]",
      "text/plain": [
       "<Figure size 432x288 with 1 Axes>"
      ]
     },
     "metadata": {},
     "output_type": "display_data"
    }
   ],
   "source": [
    "plt.plot(x,activation['h1'].detach())\n",
    "plt.title('First layer activation - 16 neurons')\n",
    "plt.xlabel('x')\n",
    "plt.savefig('act_profile_1st.pdf')"
   ]
  },
  {
   "cell_type": "code",
   "execution_count": 589,
   "metadata": {},
   "outputs": [
    {
     "data": {
      "image/png": "[encoded data removed]",
      "text/plain": [
       "<Figure size 432x288 with 1 Axes>"
      ]
     },
     "metadata": {},
     "output_type": "display_data"
    }
   ],
   "source": [
    "plt.plot(x,activation['h2'].detach())\n",
    "plt.title('Second layer activation - 16 neurons')\n",
    "plt.xlabel('x')\n",
    "plt.savefig('act_profile_2nd.pdf')"
   ]
  },
  {
   "cell_type": "code",
   "execution_count": 591,
   "metadata": {},
   "outputs": [
    {
     "data": {
      "image/png": "[encoded data removed]",
      "text/plain": [
       "<Figure size 432x288 with 1 Axes>"
      ]
     },
     "metadata": {},
     "output_type": "display_data"
    }
   ],
   "source": [
    "plt.plot(x,activation['h3'].detach())\n",
    "plt.title('Third layer activation - 16 neurons')\n",
    "plt.xlabel('x')\n",
    "plt.savefig('act_profile_3rd.pdf')"
   ]
  },
  {
   "cell_type": "code",
   "execution_count": 592,
   "metadata": {},
   "outputs": [
    {
     "data": {
      "image/png": "[encoded data removed]",
      "text/plain": [
       "<Figure size 432x288 with 1 Axes>"
      ]
     },
     "metadata": {},
     "output_type": "display_data"
    }
   ],
   "source": [
    "plt.plot(x,activation['out'].detach())\n",
    "plt.title('Output layer activation')\n",
    "plt.xlabel('x')\n",
    "plt.savefig('act_profile_out.pdf')"
   ]
  },
  {
   "cell_type": "markdown",
   "metadata": {
    "id": "SxW5QfJRvWV9"
   },
   "source": [
    "# Classification task"
   ]
  },
  {
   "cell_type": "markdown",
   "metadata": {
    "id": "cPTFyWeOyiR-"
   },
   "source": [
    "## Guidelines"
   ]
  },
  {
   "cell_type": "markdown",
   "metadata": {
    "id": "m8E-82AGylxj"
   },
   "source": [
    "* The goal is to train a neural network that maps an input image (from fashionMNIST) to one of ten classes (multi-class classification problem with mutually exclusive classes).\n",
    "* Define a proper loss (e.g. [torch.nn.CrossEntropyLoss](https://pytorch.org/docs/stable/generated/torch.nn.CrossEntropyLoss.html#torch.nn.CrossEntropyLoss))\n",
    "* Also here, consider to create a validation set from you training data, or use a k-fold cross-validation strategy.\n",
    "* Pay attention to the shape, data type and output values range. If needed, modify them accordingly to your implementation (read carefully the documentation of the layers that you use, e.g. [torch.nn.Conv2d](https://pytorch.org/docs/stable/generated/torch.nn.Conv2d.html)).\n",
    "* Explore different optimizers, acivation functions, network architectures. Analyze the effect of different regularization methods, such as dropout layers, random transformations (image rotation, scaling, add noise...) or L2 regularization (weight decay)."
   ]
  },
  {
   "cell_type": "code",
   "execution_count": 20,
   "metadata": {},
   "outputs": [
    {
     "data": {
      "image/png": "[encoded data removed]",
      "text/plain": [
       "<Figure size 576x576 with 5 Axes>"
      ]
     },
     "metadata": {},
     "output_type": "display_data"
    }
   ],
   "source": [
    "#download the dataset\n",
    "train_dataset_plot = torchvision.datasets.FashionMNIST('classifier_data', train=True,  download=True)\n",
    "\n",
    "label_names = [\"T-shirt/top\", \"Trouser\", \"Pullover\", \"Dress\", \"Coat\", \"Sandal\", \"Shirt\", \"Sneaker\", \"Bag\", \"Ankle boot\"]\n",
    "\n",
    "fig, axs = plt.subplots(1, 5, figsize=(8,8))\n",
    "for ax in axs.flatten():\n",
    "    img, label = random.choice(train_dataset_plot)\n",
    "    ax.imshow(np.array(img), cmap='gist_gray')\n",
    "    ax.set_title(f'Label: {label_names[label]} [{label}]')\n",
    "    ax.set_xticks([])\n",
    "    ax.set_yticks([])\n",
    "plt.tight_layout()\n",
    "plt.savefig('FashionMNIST_samples.pdf')"
   ]
  },
  {
   "cell_type": "code",
   "execution_count": 21,
   "metadata": {
    "colab": {
     "base_uri": "https://localhost:8080/",
     "height": 467,
     "referenced_widgets": [
      "32e794677d834420bdb9c664cff6f7cc",
      "acac05934e5647e8ad42893b8a6c10d1",
      "cf57be0a6c7340ca8b54e0809ba0fbc9",
      "7b8fe897f59046e68eb75a8cdd5e92de",
      "d9277c7a992c4f9491530f6d443fc68e",
      "9db22c25d6474d8288fa40aad726393d",
      "dec4e52f4ae04b298abc0f125c300534",
      "827906e0ccbc4881922c18683a4e97bb",
      "28234bab3d1d43aea0e50d1245cd16f2",
      "c8805dcf332245e18439d109c50466d2",
      "b39d8e8b9e1647449544903cc5a2ba34",
      "b1d7c852c19d4178974246cef1db19ca",
      "77f5bffcf0494c3db33df30552e15b8e",
      "182a074481514dbc9f92a1a31923be73",
      "0ca774af453d49e586dd4ac4fdac9663",
      "3129bcbfd8ad40cb8797f60fe984fe3c",
      "f0e07a02ccce46caaccca01b8fa93686",
      "65abcefd8e25405aa5006179d335d2c5",
      "beeeefdc08e24464ba4369da9cd7faea",
      "abdc7c640853476eb2bd1f4edbbe9d24",
      "c0494a7e04d549b5a9323fa43d9ad3b2",
      "72ad719dc306468cb506250d92f570ae",
      "54fd73e547ed43639e80285963517549",
      "f38390085e504e048e77154395244471",
      "6d9710d95a8247a5b7bc391a2350e55c",
      "ead636b58dfc422596f2e5e53119c830",
      "4c06f483297d47a2a1f81d3dde6007b5",
      "1329211232b54ee48ee7b37e38a0416f",
      "f311b7a94b244f87b5badd6824089d38",
      "108907707fb246c6aa2eb0055f22b6ad",
      "99a1e802632c4a1ab0976776641fce8c",
      "4725b0ab205e4520a3ad0004728ac82c",
      "eaf3615362384da3961655307f87bc3a",
      "b1c6d5b7f8504d84a9782a36e6491712",
      "df911c163a5a49f982caafcbced21920",
      "24139599cc964b0283c787010d446db3",
      "7904076e1ed94fe7ae911266d6f7cc29",
      "8b5cad589d3e4d65a86420980287059a",
      "60f1c19eede14af189bcd752f09e0b2e",
      "672dd44117534a09b867291ac9f70974",
      "cd2038d9851a4a4d8c7e107edf02cca1",
      "1fbf8bf7242b415c9cccda738b25ed04",
      "a68d8cc7829f45718e72751c24dc728f",
      "6cdcb148e8a446be913504e4d9e16634"
     ]
    },
    "id": "6wRuRn08zVO9",
    "outputId": "4339f423-432c-43b4-e41e-323165e22cd4"
   },
   "outputs": [],
   "source": [
    "#transformation to reduce overfitting and increase generalization capabilities of the model\n",
    "train_transf   = transforms.Compose([transforms.RandomHorizontalFlip(), \n",
    "                                     transforms.ToTensor(), \n",
    "                                     transforms.Normalize((0.1307,), (0.3081,)),\n",
    "                                     transforms.RandomCrop(28, padding=4), \n",
    "                                     transforms.RandomErasing(p=0.5, scale=(0.02, 0.33), ratio=(0.3, 3.3), value=\"random\", inplace=False,)])\n",
    "\n",
    "plain_transf   = transforms.Compose([transforms.ToTensor(), \n",
    "                                     transforms.Normalize((0.1307,), (0.3081,))])                                                \n",
    "\n",
    "train_dataset = torchvision.datasets.FashionMNIST('classifier_data', train=True,  download=True, transform=train_transf)\n",
    "test_dataset  = torchvision.datasets.FashionMNIST('classifier_data', train=False, download=True, transform=plain_transf)\n",
    "\n",
    "train_set_array = train_dataset.data.type(torch.float32).reshape(60000,1,28,28)\n",
    "train_set_label = train_dataset.targets.type(torch.int64).reshape(60000)\n",
    "test_set_array  = test_dataset.data.numpy().astype(np.float32)\n",
    "test_set_label  = test_dataset.targets.numpy().astype(np.float32)"
   ]
  },
  {
   "cell_type": "code",
   "execution_count": null,
   "metadata": {},
   "outputs": [],
   "source": [
    "label_names = [\"T-shirt/top\", \"Trouser\", \"Pullover\", \"Dress\", \"Coat\", \"Sandal\", \"Shirt\", \"Sneaker\", \"Bag\", \"Ankle boot\"]\n",
    "\n",
    "fig, axs = plt.subplots(1, 5, figsize=(8,8))\n",
    "for ax in axs.flatten():\n",
    "    img, label = random.choice(train_dataset)\n",
    "    ax.imshow(np.array(img[0]), cmap='gist_gray')\n",
    "    ax.set_title(f'Label: {label_names[label]} [{label}]')\n",
    "    ax.set_xticks([])\n",
    "    ax.set_yticks([])\n",
    "plt.tight_layout()\n",
    "plt.savefig('FashionMNIST_samples_augmented.pdf')"
   ]
  },
  {
   "cell_type": "code",
   "execution_count": 28,
   "metadata": {},
   "outputs": [],
   "source": [
    "net = NeuralNetClassifier(module                        = models.ConvolutionalNet,\n",
    "                          max_epochs                    = 10,\n",
    "                          criterion                     = nn.CrossEntropyLoss,\n",
    "                          module__prob_drop             = 0.4,\n",
    "                          module__prob_drop2            = 0.2,\n",
    "                          module__act_func              = nn.ReLU(),\n",
    "                          module__xavier                = False,\n",
    "                          batch_size                    = 64,\n",
    "                          train_split                   = CVSplit(0.2),\n",
    "                          optimizer                     = optim.Adam,\n",
    "                          lr                            = 0.001,\n",
    "                          optimizer__weight_decay       = 0.01)\n",
    "\n",
    "params = {\"module__prob_drop\"              : (loguniform.rvs(.05, .65,  size = 10)),\n",
    "          \"module__prob_drop2\"             : (loguniform.rvs(.05, .65,  size = 10)),\n",
    "          \"module__act_func\"               : [nn.ReLU(), nn.LeakyReLU()],\n",
    "          \"batch_size\"                     : [64,128],\n",
    "          \"lr\"                             : loguniform.rvs(1e-4, 1e-2, size = 20),\n",
    "          'optimizer'                      : [optim.Adam],\n",
    "          'optimizer__weight_decay'        : loguniform.rvs(1e-5, 1e-2, size = 20) }\n",
    "\n",
    "gs = RandomizedSearchCV(net, \n",
    "                        params, \n",
    "                        n_iter = 100, \n",
    "                        cv = ShuffleSplit(n_splits = 1, test_size = 0.2), \n",
    "                        scoring = 'accuracy', \n",
    "                        verbose = 2)"
   ]
  },
  {
   "cell_type": "code",
   "execution_count": null,
   "metadata": {
    "scrolled": false
   },
   "outputs": [],
   "source": [
    "#gs.fit(train_set_array, train_set_label)"
   ]
  },
  {
   "cell_type": "code",
   "execution_count": 30,
   "metadata": {},
   "outputs": [
    {
     "name": "stdout",
     "output_type": "stream",
     "text": [
      "0.9054166666666666 {'optimizer__weight_decay': 0.00037419213241558796, 'optimizer': <class 'torch.optim.adam.Adam'>, 'module__prob_drop2': 0.05361588319174629, 'module__prob_drop': 0.10186681128893188, 'module__act_func': ReLU(), 'lr': 0.0002453741863580673, 'batch_size': 64}\n"
     ]
    }
   ],
   "source": [
    "print(gs.best_score_, gs.best_params_)"
   ]
  },
  {
   "cell_type": "markdown",
   "metadata": {},
   "source": [
    "Final model train"
   ]
  },
  {
   "cell_type": "code",
   "execution_count": 31,
   "metadata": {},
   "outputs": [],
   "source": [
    "best_net = NeuralNetClassifier(\n",
    "                        module                       = models.ConvolutionalNet,\n",
    "                        max_epochs                   = 30,\n",
    "                        criterion                    = nn.CrossEntropyLoss,\n",
    "                        module__prob_drop            = gs.best_params_['module__prob_drop'],\n",
    "                        module__prob_drop2           = gs.best_params_['module__prob_drop2'],\n",
    "                        module__act_func             = gs.best_params_['module__act_func'],\n",
    "                        module__xavier               = False,\n",
    "                        batch_size                   = gs.best_params_['batch_size'],\n",
    "                        train_split                  = CVSplit(0.2),\n",
    "                        optimizer                    = gs.best_params_['optimizer'],\n",
    "                        callbacks                    = [EarlyStopping(patience = 10)],\n",
    "                        lr                           = gs.best_params_['lr'],\n",
    "                        optimizer__weight_decay      = gs.best_params_['optimizer__weight_decay'])"
   ]
  },
  {
   "cell_type": "code",
   "execution_count": 32,
   "metadata": {},
   "outputs": [
    {
     "name": "stdout",
     "output_type": "stream",
     "text": [
      "  epoch    train_loss    valid_acc    valid_loss      dur\n",
      "-------  ------------  -----------  ------------  -------\n",
      "      1        \u001b[36m0.6612\u001b[0m       \u001b[32m0.8573\u001b[0m        \u001b[35m0.4017\u001b[0m  17.9448\n",
      "      2        \u001b[36m0.4113\u001b[0m       \u001b[32m0.8749\u001b[0m        \u001b[35m0.3442\u001b[0m  17.1087\n",
      "      3        \u001b[36m0.3579\u001b[0m       \u001b[32m0.8815\u001b[0m        \u001b[35m0.3225\u001b[0m  16.7790\n",
      "      4        \u001b[36m0.3274\u001b[0m       \u001b[32m0.8884\u001b[0m        \u001b[35m0.3032\u001b[0m  16.8115\n",
      "      5        \u001b[36m0.3032\u001b[0m       \u001b[32m0.8946\u001b[0m        \u001b[35m0.2907\u001b[0m  17.0137\n",
      "      6        \u001b[36m0.2861\u001b[0m       \u001b[32m0.8959\u001b[0m        \u001b[35m0.2796\u001b[0m  16.9610\n",
      "      7        \u001b[36m0.2705\u001b[0m       \u001b[32m0.8988\u001b[0m        \u001b[35m0.2792\u001b[0m  17.2009\n",
      "      8        \u001b[36m0.2570\u001b[0m       \u001b[32m0.9002\u001b[0m        \u001b[35m0.2735\u001b[0m  17.0432\n",
      "      9        \u001b[36m0.2455\u001b[0m       \u001b[32m0.9038\u001b[0m        \u001b[35m0.2682\u001b[0m  17.0513\n",
      "     10        \u001b[36m0.2377\u001b[0m       \u001b[32m0.9044\u001b[0m        0.2696  17.0912\n",
      "     11        \u001b[36m0.2295\u001b[0m       \u001b[32m0.9058\u001b[0m        \u001b[35m0.2600\u001b[0m  16.5912\n",
      "     12        \u001b[36m0.2208\u001b[0m       \u001b[32m0.9059\u001b[0m        \u001b[35m0.2596\u001b[0m  16.6659\n",
      "     13        \u001b[36m0.2114\u001b[0m       \u001b[32m0.9073\u001b[0m        \u001b[35m0.2576\u001b[0m  16.9250\n",
      "     14        \u001b[36m0.2063\u001b[0m       \u001b[32m0.9081\u001b[0m        \u001b[35m0.2554\u001b[0m  16.6711\n",
      "     15        \u001b[36m0.1979\u001b[0m       \u001b[32m0.9103\u001b[0m        0.2579  17.3159\n",
      "     16        \u001b[36m0.1927\u001b[0m       0.9093        0.2620  16.6759\n",
      "     17        \u001b[36m0.1875\u001b[0m       0.9082        0.2631  16.6369\n",
      "     18        \u001b[36m0.1843\u001b[0m       0.9100        0.2632  16.7790\n",
      "     19        \u001b[36m0.1799\u001b[0m       0.9097        0.2563  19.0166\n",
      "     20        \u001b[36m0.1759\u001b[0m       0.9091        0.2648  18.0625\n",
      "     21        \u001b[36m0.1687\u001b[0m       0.9097        0.2647  17.1359\n",
      "     22        \u001b[36m0.1638\u001b[0m       0.9086        0.2711  17.3400\n",
      "     23        \u001b[36m0.1625\u001b[0m       \u001b[32m0.9122\u001b[0m        0.2641  16.6827\n",
      "Stopping since valid_loss has not improved in the last 10 epochs.\n"
     ]
    },
    {
     "data": {
      "text/plain": [
       "<class 'skorch.classifier.NeuralNetClassifier'>[initialized](\n",
       "  module_=ConvolutionalNet(\n",
       "    (conv1): Conv2d(1, 16, kernel_size=(5, 5), stride=(1, 1), padding=(2, 2))\n",
       "    (conv2): Conv2d(16, 8, kernel_size=(5, 5), stride=(1, 1), padding=(2, 2))\n",
       "    (mpool2d): MaxPool2d(kernel_size=2, stride=2, padding=0, dilation=1, ceil_mode=False)\n",
       "    (actf): ReLU()\n",
       "    (dr): Dropout2d(p=0.10186681128893188, inplace=False)\n",
       "    (dr2): Dropout2d(p=0.05361588319174629, inplace=False)\n",
       "    (fc1): Linear(in_features=392, out_features=100, bias=True)\n",
       "    (out): Linear(in_features=100, out_features=10, bias=True)\n",
       "  ),\n",
       ")"
      ]
     },
     "execution_count": 32,
     "metadata": {},
     "output_type": "execute_result"
    }
   ],
   "source": [
    "best_net.fit(train_set_array, train_set_label)"
   ]
  },
  {
   "cell_type": "code",
   "execution_count": 37,
   "metadata": {},
   "outputs": [
    {
     "data": {
      "image/png": "[encoded data removed]",
      "text/plain": [
       "<Figure size 432x288 with 1 Axes>"
      ]
     },
     "metadata": {},
     "output_type": "display_data"
    }
   ],
   "source": [
    "history  = best_net.history\n",
    "\n",
    "plt.plot(history[:, ('valid_acc')], label='Validation Accuracy')\n",
    "plt.plot(history[:, ('train_loss')], label='Training Loss')\n",
    "plt.plot(history[:, ('valid_loss')], label='Validation Loss')\n",
    "plt.legend()\n",
    "plt.ylabel('Loss')\n",
    "plt.xlabel('Epoch')\n",
    "plt.title('CNN for FashionMNIST classification curves')\n",
    "plt.savefig('curves_cnn.pdf')"
   ]
  },
  {
   "cell_type": "markdown",
   "metadata": {},
   "source": [
    "## Confusion matrix"
   ]
  },
  {
   "cell_type": "code",
   "execution_count": 39,
   "metadata": {},
   "outputs": [
    {
     "name": "stdout",
     "output_type": "stream",
     "text": [
      "The final accuracy on the test set is:  0.9004\n"
     ]
    },
    {
     "data": {
      "image/png": "[encoded data removed]",
      "text/plain": [
       "<Figure size 842.4x595.44 with 2 Axes>"
      ]
     },
     "metadata": {},
     "output_type": "display_data"
    }
   ],
   "source": [
    "#test_set_array = np.expand_dims(test_set_array, 1) \n",
    "test_set_array = np.squeeze(test_set_array, 1) \n",
    "label_pred = best_net.predict(test_set_array)\n",
    "\n",
    "print('The final accuracy on the test set is: ', accuracy_score(test_set_label, label_pred))\n",
    "\n",
    "sns.set(rc={'figure.figsize':(11.7,8.27)})\n",
    "sns.heatmap(confusion_matrix(label_pred, test_set_label), annot = True, xticklabels = label_names, yticklabels = label_names, fmt = 'g')\n",
    "plt.savefig('confusion_matrix.pdf')"
   ]
  },
  {
   "cell_type": "markdown",
   "metadata": {},
   "source": [
    "## Misclassified samples"
   ]
  },
  {
   "cell_type": "code",
   "execution_count": 40,
   "metadata": {
    "scrolled": false
   },
   "outputs": [
    {
     "name": "stdout",
     "output_type": "stream",
     "text": [
      "The misclassified samples are in total:  996\n",
      "True:  Shirt\n",
      "Predicted:  T-shirt/top\n"
     ]
    },
    {
     "data": {
      "image/png": "[encoded data removed]",
      "text/plain": [
       "<Figure size 144x144 with 1 Axes>"
      ]
     },
     "metadata": {},
     "output_type": "display_data"
    },
    {
     "name": "stdout",
     "output_type": "stream",
     "text": [
      "True:  Ankle boot\n",
      "Predicted:  Sandal\n"
     ]
    },
    {
     "data": {
      "image/png": "[encoded data removed]",
      "text/plain": [
       "<Figure size 144x144 with 1 Axes>"
      ]
     },
     "metadata": {},
     "output_type": "display_data"
    },
    {
     "name": "stdout",
     "output_type": "stream",
     "text": [
      "True:  Coat\n",
      "Predicted:  Pullover\n"
     ]
    },
    {
     "data": {
      "image/png": "[encoded data removed]",
      "text/plain": [
       "<Figure size 144x144 with 1 Axes>"
      ]
     },
     "metadata": {},
     "output_type": "display_data"
    },
    {
     "name": "stdout",
     "output_type": "stream",
     "text": [
      "True:  Dress\n",
      "Predicted:  Shirt\n"
     ]
    },
    {
     "data": {
      "image/png": "[encoded data removed]",
      "text/plain": [
       "<Figure size 144x144 with 1 Axes>"
      ]
     },
     "metadata": {},
     "output_type": "display_data"
    },
    {
     "name": "stdout",
     "output_type": "stream",
     "text": [
      "True:  Pullover\n",
      "Predicted:  Shirt\n"
     ]
    },
    {
     "data": {
      "image/png": "[encoded data removed]",
      "text/plain": [
       "<Figure size 144x144 with 1 Axes>"
      ]
     },
     "metadata": {},
     "output_type": "display_data"
    },
    {
     "name": "stdout",
     "output_type": "stream",
     "text": [
      "True:  Dress\n",
      "Predicted:  Coat\n"
     ]
    },
    {
     "data": {
      "image/png": "[encoded data removed]",
      "text/plain": [
       "<Figure size 144x144 with 1 Axes>"
      ]
     },
     "metadata": {},
     "output_type": "display_data"
    },
    {
     "name": "stdout",
     "output_type": "stream",
     "text": [
      "True:  Ankle boot\n",
      "Predicted:  Sneaker\n"
     ]
    },
    {
     "data": {
      "image/png": "[encoded data removed]",
      "text/plain": [
       "<Figure size 144x144 with 1 Axes>"
      ]
     },
     "metadata": {},
     "output_type": "display_data"
    },
    {
     "name": "stdout",
     "output_type": "stream",
     "text": [
      "True:  Shirt\n",
      "Predicted:  Pullover\n"
     ]
    },
    {
     "data": {
      "image/png": "[encoded data removed]",
      "text/plain": [
       "<Figure size 144x144 with 1 Axes>"
      ]
     },
     "metadata": {},
     "output_type": "display_data"
    },
    {
     "name": "stdout",
     "output_type": "stream",
     "text": [
      "True:  Coat\n",
      "Predicted:  Pullover\n"
     ]
    },
    {
     "data": {
      "image/png": "[encoded data removed]",
      "text/plain": [
       "<Figure size 144x144 with 1 Axes>"
      ]
     },
     "metadata": {},
     "output_type": "display_data"
    },
    {
     "name": "stdout",
     "output_type": "stream",
     "text": [
      "True:  Ankle boot\n",
      "Predicted:  Sneaker\n"
     ]
    },
    {
     "data": {
      "image/png": "[encoded data removed]",
      "text/plain": [
       "<Figure size 144x144 with 1 Axes>"
      ]
     },
     "metadata": {},
     "output_type": "display_data"
    }
   ],
   "source": [
    "misclassified_indices = [i for i in range(len(label_pred)) if label_pred[i] != test_set_label[i]] \n",
    "sns.set(rc={'figure.figsize':(2,2)})\n",
    "\n",
    "print('The misclassified samples are in total: ', len(misclassified_indices))\n",
    "for i in range(10):\n",
    "    ind = misclassified_indices[i]\n",
    "    img = np.array(test_set_array[ind][0])\n",
    "    print('True: ',label_names[int(test_set_label[ind])])\n",
    "    print('Predicted: ',label_names[int(label_pred[ind])])\n",
    "    plt.imshow(np.array(img), cmap = 'gist_gray')\n",
    "    plt.show()"
   ]
  },
  {
   "cell_type": "markdown",
   "metadata": {},
   "source": [
    "## Weights"
   ]
  },
  {
   "cell_type": "code",
   "execution_count": 41,
   "metadata": {},
   "outputs": [
    {
     "data": {
      "image/png": "[encoded data removed]",
      "text/plain": [
       "<Figure size 576x576 with 8 Axes>"
      ]
     },
     "metadata": {},
     "output_type": "display_data"
    }
   ],
   "source": [
    "h1_w = best_net.module_.conv1.weight.data.cpu().numpy()\n",
    "\n",
    "fig, ax = plt.subplots(1,8, figsize=(8, 8))\n",
    "\n",
    "for i in range(8):\n",
    "    ax[i].imshow( h1_w[i, 0, :, :], cmap='Greys')\n",
    "    ax[i].set_xticks([])\n",
    "    ax[i].set_yticks([])\n",
    "plt.savefig('weights_conv1.pdf')"
   ]
  },
  {
   "cell_type": "code",
   "execution_count": 42,
   "metadata": {},
   "outputs": [
    {
     "data": {
      "image/png": "[encoded data removed]",
      "text/plain": [
       "<Figure size 288x288 with 16 Axes>"
      ]
     },
     "metadata": {},
     "output_type": "display_data"
    }
   ],
   "source": [
    "h2_w = best_net.module_.conv2.weight.data.cpu().numpy()\n",
    "\n",
    "fig, ax = plt.subplots(4,4, figsize=(4, 4))\n",
    "for j in range(4):\n",
    "    for i in range(4):\n",
    "        ax[j][i].imshow( h2_w[i, j, :, :], cmap='Greys')\n",
    "        ax[j][i].set_xticks([])\n",
    "        ax[j][i].set_yticks([])\n",
    "plt.savefig('weights_conv2.pdf')"
   ]
  },
  {
   "cell_type": "markdown",
   "metadata": {},
   "source": [
    "## Activations"
   ]
  },
  {
   "cell_type": "code",
   "execution_count": 43,
   "metadata": {},
   "outputs": [],
   "source": [
    "activation = {}\n",
    "def getActivation(name):\n",
    "  # the hook signature\n",
    "  def hook(model, input, output):\n",
    "    activation[name] = output.detach()\n",
    "  return hook"
   ]
  },
  {
   "cell_type": "code",
   "execution_count": 56,
   "metadata": {},
   "outputs": [
    {
     "data": {
      "image/png": "[encoded data removed]",
      "text/plain": [
       "<Figure size 576x144 with 16 Axes>"
      ]
     },
     "metadata": {},
     "output_type": "display_data"
    }
   ],
   "source": [
    "conv1 = best_net.module_.conv1.register_forward_hook(getActivation('conv1'))\n",
    "\n",
    "x = train_dataset[1][0].cpu().unsqueeze(0).to(device)\n",
    "layers = [best_net.module_.conv1, nn.ReLU(), best_net.module_.mpool2d]\n",
    "for layer in layers:\n",
    "    x = layer(x)\n",
    "out_conv1 = x.squeeze(0).cpu().detach().numpy()\n",
    "\n",
    "fig, ax = plt.subplots(2,8, figsize=(8, 2))\n",
    "j=0\n",
    "for a, filt in enumerate(out_conv1):\n",
    "    if a<8:\n",
    "        ax[0][a].grid(False)\n",
    "        ax[0][a].imshow(filt, cmap='Greys')\n",
    "        ax[0][a].set_xticks([])\n",
    "        ax[0][a].set_yticks([])\n",
    "        ax[0][a].spines['bottom'].set_color('0.5')\n",
    "        ax[0][a].spines['top'].set_color('0.5')\n",
    "        ax[0][a].spines['right'].set_color('0.5')\n",
    "        ax[0][a].spines['left'].set_color('0.5')\n",
    "    else: \n",
    "        ax[1][a-8].grid(False)\n",
    "        ax[1][a-8].imshow(filt, cmap='Greys')\n",
    "        ax[1][a-8].set_xticks([])\n",
    "        ax[1][a-8].set_yticks([])\n",
    "        ax[1][a-8].spines['bottom'].set_color('0.5')\n",
    "        ax[1][a-8].spines['top'].set_color('0.5')\n",
    "        ax[1][a-8].spines['right'].set_color('0.5')\n",
    "        ax[1][a-8].spines['left'].set_color('0.5')\n",
    "\n",
    "\n",
    "plt.savefig('receptive_field_conv1d.pdf')"
   ]
  },
  {
   "cell_type": "code",
   "execution_count": 57,
   "metadata": {},
   "outputs": [
    {
     "data": {
      "image/png": "[encoded data removed]",
      "text/plain": [
       "<Figure size 576x144 with 8 Axes>"
      ]
     },
     "metadata": {},
     "output_type": "display_data"
    }
   ],
   "source": [
    "conv2 = best_net.module_.conv2.register_forward_hook(getActivation('conv2'))\n",
    "\n",
    "x = train_dataset[1][0].cpu().unsqueeze(0).to(device)\n",
    "layers = [best_net.module_.conv1, nn.ReLU(), best_net.module_.mpool2d, best_net.module_.dr2 ,best_net.module_.conv2, nn.ReLU(), best_net.module_.mpool2d]\n",
    "for layer in layers:\n",
    "    x = layer(x)\n",
    "out_conv2 = x.squeeze(0).cpu().detach().numpy()\n",
    "\n",
    "fig, ax = plt.subplots(1,8, figsize=(8, 2))\n",
    "for i, filt in enumerate(out_conv2):\n",
    "    ax[i].grid(False)\n",
    "    ax[i].imshow(filt, cmap='Greys')\n",
    "    ax[i].set_xticks([])\n",
    "    ax[i].set_yticks([])\n",
    "    ax[i].spines['bottom'].set_color('0.5')\n",
    "    ax[i].spines['top'].set_color('0.5')\n",
    "    ax[i].spines['right'].set_color('0.5')\n",
    "    ax[i].spines['left'].set_color('0.5')\n",
    "plt.savefig('receptive_field_conv2d.pdf')"
   ]
  }
 ],
 "metadata": {
  "colab": {
   "collapsed_sections": [],
   "name": "nndl_2021__homework_1.ipynb",
   "provenance": []
  },
  "interpreter": {
   "hash": "c199e61d70fca8c3ce0064d11acb2cac1e952a29e2ce673784570ea63e42620e"
  },
  "kernelspec": {
   "display_name": "Python 3",
   "language": "python",
   "name": "python3"
  },
  "language_info": {
   "codemirror_mode": {
    "name": "ipython",
    "version": 3
   },
   "file_extension": ".py",
   "mimetype": "text/x-python",
   "name": "python",
   "nbconvert_exporter": "python",
   "pygments_lexer": "ipython3",
   "version": "3.8.8"
  },
  "widgets": {
   "application/vnd.jupyter.widget-state+json": {
    "0ca774af453d49e586dd4ac4fdac9663": {
     "model_module": "@jupyter-widgets/controls",
     "model_module_version": "1.5.0",
     "model_name": "FloatProgressModel",
     "state": {
      "_dom_classes": [],
      "_model_module": "@jupyter-widgets/controls",
      "_model_module_version": "1.5.0",
      "_model_name": "FloatProgressModel",
      "_view_count": null,
      "_view_module": "@jupyter-widgets/controls",
      "_view_module_version": "1.5.0",
      "_view_name": "ProgressView",
      "bar_style": "success",
      "description": "",
      "description_tooltip": null,
      "layout": "IPY_MODEL_abdc7c640853476eb2bd1f4edbbe9d24",
      "max": 29515,
      "min": 0,
      "orientation": "horizontal",
      "style": "IPY_MODEL_beeeefdc08e24464ba4369da9cd7faea",
      "value": 29515
     }
    },
    "108907707fb246c6aa2eb0055f22b6ad": {
     "model_module": "@jupyter-widgets/controls",
     "model_module_version": "1.5.0",
     "model_name": "ProgressStyleModel",
     "state": {
      "_model_module": "@jupyter-widgets/controls",
      "_model_module_version": "1.5.0",
      "_model_name": "ProgressStyleModel",
      "_view_count": null,
      "_view_module": "@jupyter-widgets/base",
      "_view_module_version": "1.2.0",
      "_view_name": "StyleView",
      "bar_color": null,
      "description_width": ""
     }
    },
    "1329211232b54ee48ee7b37e38a0416f": {
     "model_module": "@jupyter-widgets/controls",
     "model_module_version": "1.5.0",
     "model_name": "DescriptionStyleModel",
     "state": {
      "_model_module": "@jupyter-widgets/controls",
      "_model_module_version": "1.5.0",
      "_model_name": "DescriptionStyleModel",
      "_view_count": null,
      "_view_module": "@jupyter-widgets/base",
      "_view_module_version": "1.2.0",
      "_view_name": "StyleView",
      "description_width": ""
     }
    },
    "182a074481514dbc9f92a1a31923be73": {
     "model_module": "@jupyter-widgets/controls",
     "model_module_version": "1.5.0",
     "model_name": "HTMLModel",
     "state": {
      "_dom_classes": [],
      "_model_module": "@jupyter-widgets/controls",
      "_model_module_version": "1.5.0",
      "_model_name": "HTMLModel",
      "_view_count": null,
      "_view_module": "@jupyter-widgets/controls",
      "_view_module_version": "1.5.0",
      "_view_name": "HTMLView",
      "description": "",
      "description_tooltip": null,
      "layout": "IPY_MODEL_65abcefd8e25405aa5006179d335d2c5",
      "placeholder": "​",
      "style": "IPY_MODEL_f0e07a02ccce46caaccca01b8fa93686",
      "value": ""
     }
    },
    "1fbf8bf7242b415c9cccda738b25ed04": {
     "model_module": "@jupyter-widgets/base",
     "model_module_version": "1.2.0",
     "model_name": "LayoutModel",
     "state": {
      "_model_module": "@jupyter-widgets/base",
      "_model_module_version": "1.2.0",
      "_model_name": "LayoutModel",
      "_view_count": null,
      "_view_module": "@jupyter-widgets/base",
      "_view_module_version": "1.2.0",
      "_view_name": "LayoutView",
      "align_content": null,
      "align_items": null,
      "align_self": null,
      "border": null,
      "bottom": null,
      "display": null,
      "flex": null,
      "flex_flow": null,
      "grid_area": null,
      "grid_auto_columns": null,
      "grid_auto_flow": null,
      "grid_auto_rows": null,
      "grid_column": null,
      "grid_gap": null,
      "grid_row": null,
      "grid_template_areas": null,
      "grid_template_columns": null,
      "grid_template_rows": null,
      "height": null,
      "justify_content": null,
      "justify_items": null,
      "left": null,
      "margin": null,
      "max_height": null,
      "max_width": null,
      "min_height": null,
      "min_width": null,
      "object_fit": null,
      "object_position": null,
      "order": null,
      "overflow": null,
      "overflow_x": null,
      "overflow_y": null,
      "padding": null,
      "right": null,
      "top": null,
      "visibility": null,
      "width": null
     }
    },
    "24139599cc964b0283c787010d446db3": {
     "model_module": "@jupyter-widgets/controls",
     "model_module_version": "1.5.0",
     "model_name": "HTMLModel",
     "state": {
      "_dom_classes": [],
      "_model_module": "@jupyter-widgets/controls",
      "_model_module_version": "1.5.0",
      "_model_name": "HTMLModel",
      "_view_count": null,
      "_view_module": "@jupyter-widgets/controls",
      "_view_module_version": "1.5.0",
      "_view_name": "HTMLView",
      "description": "",
      "description_tooltip": null,
      "layout": "IPY_MODEL_672dd44117534a09b867291ac9f70974",
      "placeholder": "​",
      "style": "IPY_MODEL_60f1c19eede14af189bcd752f09e0b2e",
      "value": ""
     }
    },
    "28234bab3d1d43aea0e50d1245cd16f2": {
     "model_module": "@jupyter-widgets/base",
     "model_module_version": "1.2.0",
     "model_name": "LayoutModel",
     "state": {
      "_model_module": "@jupyter-widgets/base",
      "_model_module_version": "1.2.0",
      "_model_name": "LayoutModel",
      "_view_count": null,
      "_view_module": "@jupyter-widgets/base",
      "_view_module_version": "1.2.0",
      "_view_name": "LayoutView",
      "align_content": null,
      "align_items": null,
      "align_self": null,
      "border": null,
      "bottom": null,
      "display": null,
      "flex": null,
      "flex_flow": null,
      "grid_area": null,
      "grid_auto_columns": null,
      "grid_auto_flow": null,
      "grid_auto_rows": null,
      "grid_column": null,
      "grid_gap": null,
      "grid_row": null,
      "grid_template_areas": null,
      "grid_template_columns": null,
      "grid_template_rows": null,
      "height": null,
      "justify_content": null,
      "justify_items": null,
      "left": null,
      "margin": null,
      "max_height": null,
      "max_width": null,
      "min_height": null,
      "min_width": null,
      "object_fit": null,
      "object_position": null,
      "order": null,
      "overflow": null,
      "overflow_x": null,
      "overflow_y": null,
      "padding": null,
      "right": null,
      "top": null,
      "visibility": null,
      "width": null
     }
    },
    "3129bcbfd8ad40cb8797f60fe984fe3c": {
     "model_module": "@jupyter-widgets/controls",
     "model_module_version": "1.5.0",
     "model_name": "HTMLModel",
     "state": {
      "_dom_classes": [],
      "_model_module": "@jupyter-widgets/controls",
      "_model_module_version": "1.5.0",
      "_model_name": "HTMLModel",
      "_view_count": null,
      "_view_module": "@jupyter-widgets/controls",
      "_view_module_version": "1.5.0",
      "_view_name": "HTMLView",
      "description": "",
      "description_tooltip": null,
      "layout": "IPY_MODEL_72ad719dc306468cb506250d92f570ae",
      "placeholder": "​",
      "style": "IPY_MODEL_c0494a7e04d549b5a9323fa43d9ad3b2",
      "value": " 29696/? [00:00&lt;00:00, 304641.88it/s]"
     }
    },
    "32e794677d834420bdb9c664cff6f7cc": {
     "model_module": "@jupyter-widgets/controls",
     "model_module_version": "1.5.0",
     "model_name": "HBoxModel",
     "state": {
      "_dom_classes": [],
      "_model_module": "@jupyter-widgets/controls",
      "_model_module_version": "1.5.0",
      "_model_name": "HBoxModel",
      "_view_count": null,
      "_view_module": "@jupyter-widgets/controls",
      "_view_module_version": "1.5.0",
      "_view_name": "HBoxView",
      "box_style": "",
      "children": [
       "IPY_MODEL_cf57be0a6c7340ca8b54e0809ba0fbc9",
       "IPY_MODEL_7b8fe897f59046e68eb75a8cdd5e92de",
       "IPY_MODEL_d9277c7a992c4f9491530f6d443fc68e"
      ],
      "layout": "IPY_MODEL_acac05934e5647e8ad42893b8a6c10d1"
     }
    },
    "4725b0ab205e4520a3ad0004728ac82c": {
     "model_module": "@jupyter-widgets/controls",
     "model_module_version": "1.5.0",
     "model_name": "DescriptionStyleModel",
     "state": {
      "_model_module": "@jupyter-widgets/controls",
      "_model_module_version": "1.5.0",
      "_model_name": "DescriptionStyleModel",
      "_view_count": null,
      "_view_module": "@jupyter-widgets/base",
      "_view_module_version": "1.2.0",
      "_view_name": "StyleView",
      "description_width": ""
     }
    },
    "4c06f483297d47a2a1f81d3dde6007b5": {
     "model_module": "@jupyter-widgets/controls",
     "model_module_version": "1.5.0",
     "model_name": "HTMLModel",
     "state": {
      "_dom_classes": [],
      "_model_module": "@jupyter-widgets/controls",
      "_model_module_version": "1.5.0",
      "_model_name": "HTMLModel",
      "_view_count": null,
      "_view_module": "@jupyter-widgets/controls",
      "_view_module_version": "1.5.0",
      "_view_name": "HTMLView",
      "description": "",
      "description_tooltip": null,
      "layout": "IPY_MODEL_eaf3615362384da3961655307f87bc3a",
      "placeholder": "​",
      "style": "IPY_MODEL_4725b0ab205e4520a3ad0004728ac82c",
      "value": " 4422656/? [00:00&lt;00:00, 8742811.50it/s]"
     }
    },
    "54fd73e547ed43639e80285963517549": {
     "model_module": "@jupyter-widgets/controls",
     "model_module_version": "1.5.0",
     "model_name": "HBoxModel",
     "state": {
      "_dom_classes": [],
      "_model_module": "@jupyter-widgets/controls",
      "_model_module_version": "1.5.0",
      "_model_name": "HBoxModel",
      "_view_count": null,
      "_view_module": "@jupyter-widgets/controls",
      "_view_module_version": "1.5.0",
      "_view_name": "HBoxView",
      "box_style": "",
      "children": [
       "IPY_MODEL_6d9710d95a8247a5b7bc391a2350e55c",
       "IPY_MODEL_ead636b58dfc422596f2e5e53119c830",
       "IPY_MODEL_4c06f483297d47a2a1f81d3dde6007b5"
      ],
      "layout": "IPY_MODEL_f38390085e504e048e77154395244471"
     }
    },
    "60f1c19eede14af189bcd752f09e0b2e": {
     "model_module": "@jupyter-widgets/controls",
     "model_module_version": "1.5.0",
     "model_name": "DescriptionStyleModel",
     "state": {
      "_model_module": "@jupyter-widgets/controls",
      "_model_module_version": "1.5.0",
      "_model_name": "DescriptionStyleModel",
      "_view_count": null,
      "_view_module": "@jupyter-widgets/base",
      "_view_module_version": "1.2.0",
      "_view_name": "StyleView",
      "description_width": ""
     }
    },
    "65abcefd8e25405aa5006179d335d2c5": {
     "model_module": "@jupyter-widgets/base",
     "model_module_version": "1.2.0",
     "model_name": "LayoutModel",
     "state": {
      "_model_module": "@jupyter-widgets/base",
      "_model_module_version": "1.2.0",
      "_model_name": "LayoutModel",
      "_view_count": null,
      "_view_module": "@jupyter-widgets/base",
      "_view_module_version": "1.2.0",
      "_view_name": "LayoutView",
      "align_content": null,
      "align_items": null,
      "align_self": null,
      "border": null,
      "bottom": null,
      "display": null,
      "flex": null,
      "flex_flow": null,
      "grid_area": null,
      "grid_auto_columns": null,
      "grid_auto_flow": null,
      "grid_auto_rows": null,
      "grid_column": null,
      "grid_gap": null,
      "grid_row": null,
      "grid_template_areas": null,
      "grid_template_columns": null,
      "grid_template_rows": null,
      "height": null,
      "justify_content": null,
      "justify_items": null,
      "left": null,
      "margin": null,
      "max_height": null,
      "max_width": null,
      "min_height": null,
      "min_width": null,
      "object_fit": null,
      "object_position": null,
      "order": null,
      "overflow": null,
      "overflow_x": null,
      "overflow_y": null,
      "padding": null,
      "right": null,
      "top": null,
      "visibility": null,
      "width": null
     }
    },
    "672dd44117534a09b867291ac9f70974": {
     "model_module": "@jupyter-widgets/base",
     "model_module_version": "1.2.0",
     "model_name": "LayoutModel",
     "state": {
      "_model_module": "@jupyter-widgets/base",
      "_model_module_version": "1.2.0",
      "_model_name": "LayoutModel",
      "_view_count": null,
      "_view_module": "@jupyter-widgets/base",
      "_view_module_version": "1.2.0",
      "_view_name": "LayoutView",
      "align_content": null,
      "align_items": null,
      "align_self": null,
      "border": null,
      "bottom": null,
      "display": null,
      "flex": null,
      "flex_flow": null,
      "grid_area": null,
      "grid_auto_columns": null,
      "grid_auto_flow": null,
      "grid_auto_rows": null,
      "grid_column": null,
      "grid_gap": null,
      "grid_row": null,
      "grid_template_areas": null,
      "grid_template_columns": null,
      "grid_template_rows": null,
      "height": null,
      "justify_content": null,
      "justify_items": null,
      "left": null,
      "margin": null,
      "max_height": null,
      "max_width": null,
      "min_height": null,
      "min_width": null,
      "object_fit": null,
      "object_position": null,
      "order": null,
      "overflow": null,
      "overflow_x": null,
      "overflow_y": null,
      "padding": null,
      "right": null,
      "top": null,
      "visibility": null,
      "width": null
     }
    },
    "6cdcb148e8a446be913504e4d9e16634": {
     "model_module": "@jupyter-widgets/base",
     "model_module_version": "1.2.0",
     "model_name": "LayoutModel",
     "state": {
      "_model_module": "@jupyter-widgets/base",
      "_model_module_version": "1.2.0",
      "_model_name": "LayoutModel",
      "_view_count": null,
      "_view_module": "@jupyter-widgets/base",
      "_view_module_version": "1.2.0",
      "_view_name": "LayoutView",
      "align_content": null,
      "align_items": null,
      "align_self": null,
      "border": null,
      "bottom": null,
      "display": null,
      "flex": null,
      "flex_flow": null,
      "grid_area": null,
      "grid_auto_columns": null,
      "grid_auto_flow": null,
      "grid_auto_rows": null,
      "grid_column": null,
      "grid_gap": null,
      "grid_row": null,
      "grid_template_areas": null,
      "grid_template_columns": null,
      "grid_template_rows": null,
      "height": null,
      "justify_content": null,
      "justify_items": null,
      "left": null,
      "margin": null,
      "max_height": null,
      "max_width": null,
      "min_height": null,
      "min_width": null,
      "object_fit": null,
      "object_position": null,
      "order": null,
      "overflow": null,
      "overflow_x": null,
      "overflow_y": null,
      "padding": null,
      "right": null,
      "top": null,
      "visibility": null,
      "width": null
     }
    },
    "6d9710d95a8247a5b7bc391a2350e55c": {
     "model_module": "@jupyter-widgets/controls",
     "model_module_version": "1.5.0",
     "model_name": "HTMLModel",
     "state": {
      "_dom_classes": [],
      "_model_module": "@jupyter-widgets/controls",
      "_model_module_version": "1.5.0",
      "_model_name": "HTMLModel",
      "_view_count": null,
      "_view_module": "@jupyter-widgets/controls",
      "_view_module_version": "1.5.0",
      "_view_name": "HTMLView",
      "description": "",
      "description_tooltip": null,
      "layout": "IPY_MODEL_f311b7a94b244f87b5badd6824089d38",
      "placeholder": "​",
      "style": "IPY_MODEL_1329211232b54ee48ee7b37e38a0416f",
      "value": ""
     }
    },
    "72ad719dc306468cb506250d92f570ae": {
     "model_module": "@jupyter-widgets/base",
     "model_module_version": "1.2.0",
     "model_name": "LayoutModel",
     "state": {
      "_model_module": "@jupyter-widgets/base",
      "_model_module_version": "1.2.0",
      "_model_name": "LayoutModel",
      "_view_count": null,
      "_view_module": "@jupyter-widgets/base",
      "_view_module_version": "1.2.0",
      "_view_name": "LayoutView",
      "align_content": null,
      "align_items": null,
      "align_self": null,
      "border": null,
      "bottom": null,
      "display": null,
      "flex": null,
      "flex_flow": null,
      "grid_area": null,
      "grid_auto_columns": null,
      "grid_auto_flow": null,
      "grid_auto_rows": null,
      "grid_column": null,
      "grid_gap": null,
      "grid_row": null,
      "grid_template_areas": null,
      "grid_template_columns": null,
      "grid_template_rows": null,
      "height": null,
      "justify_content": null,
      "justify_items": null,
      "left": null,
      "margin": null,
      "max_height": null,
      "max_width": null,
      "min_height": null,
      "min_width": null,
      "object_fit": null,
      "object_position": null,
      "order": null,
      "overflow": null,
      "overflow_x": null,
      "overflow_y": null,
      "padding": null,
      "right": null,
      "top": null,
      "visibility": null,
      "width": null
     }
    },
    "77f5bffcf0494c3db33df30552e15b8e": {
     "model_module": "@jupyter-widgets/base",
     "model_module_version": "1.2.0",
     "model_name": "LayoutModel",
     "state": {
      "_model_module": "@jupyter-widgets/base",
      "_model_module_version": "1.2.0",
      "_model_name": "LayoutModel",
      "_view_count": null,
      "_view_module": "@jupyter-widgets/base",
      "_view_module_version": "1.2.0",
      "_view_name": "LayoutView",
      "align_content": null,
      "align_items": null,
      "align_self": null,
      "border": null,
      "bottom": null,
      "display": null,
      "flex": null,
      "flex_flow": null,
      "grid_area": null,
      "grid_auto_columns": null,
      "grid_auto_flow": null,
      "grid_auto_rows": null,
      "grid_column": null,
      "grid_gap": null,
      "grid_row": null,
      "grid_template_areas": null,
      "grid_template_columns": null,
      "grid_template_rows": null,
      "height": null,
      "justify_content": null,
      "justify_items": null,
      "left": null,
      "margin": null,
      "max_height": null,
      "max_width": null,
      "min_height": null,
      "min_width": null,
      "object_fit": null,
      "object_position": null,
      "order": null,
      "overflow": null,
      "overflow_x": null,
      "overflow_y": null,
      "padding": null,
      "right": null,
      "top": null,
      "visibility": null,
      "width": null
     }
    },
    "7904076e1ed94fe7ae911266d6f7cc29": {
     "model_module": "@jupyter-widgets/controls",
     "model_module_version": "1.5.0",
     "model_name": "FloatProgressModel",
     "state": {
      "_dom_classes": [],
      "_model_module": "@jupyter-widgets/controls",
      "_model_module_version": "1.5.0",
      "_model_name": "FloatProgressModel",
      "_view_count": null,
      "_view_module": "@jupyter-widgets/controls",
      "_view_module_version": "1.5.0",
      "_view_name": "ProgressView",
      "bar_style": "success",
      "description": "",
      "description_tooltip": null,
      "layout": "IPY_MODEL_1fbf8bf7242b415c9cccda738b25ed04",
      "max": 5148,
      "min": 0,
      "orientation": "horizontal",
      "style": "IPY_MODEL_cd2038d9851a4a4d8c7e107edf02cca1",
      "value": 5148
     }
    },
    "7b8fe897f59046e68eb75a8cdd5e92de": {
     "model_module": "@jupyter-widgets/controls",
     "model_module_version": "1.5.0",
     "model_name": "FloatProgressModel",
     "state": {
      "_dom_classes": [],
      "_model_module": "@jupyter-widgets/controls",
      "_model_module_version": "1.5.0",
      "_model_name": "FloatProgressModel",
      "_view_count": null,
      "_view_module": "@jupyter-widgets/controls",
      "_view_module_version": "1.5.0",
      "_view_name": "ProgressView",
      "bar_style": "success",
      "description": "",
      "description_tooltip": null,
      "layout": "IPY_MODEL_28234bab3d1d43aea0e50d1245cd16f2",
      "max": 26421880,
      "min": 0,
      "orientation": "horizontal",
      "style": "IPY_MODEL_827906e0ccbc4881922c18683a4e97bb",
      "value": 26421880
     }
    },
    "827906e0ccbc4881922c18683a4e97bb": {
     "model_module": "@jupyter-widgets/controls",
     "model_module_version": "1.5.0",
     "model_name": "ProgressStyleModel",
     "state": {
      "_model_module": "@jupyter-widgets/controls",
      "_model_module_version": "1.5.0",
      "_model_name": "ProgressStyleModel",
      "_view_count": null,
      "_view_module": "@jupyter-widgets/base",
      "_view_module_version": "1.2.0",
      "_view_name": "StyleView",
      "bar_color": null,
      "description_width": ""
     }
    },
    "8b5cad589d3e4d65a86420980287059a": {
     "model_module": "@jupyter-widgets/controls",
     "model_module_version": "1.5.0",
     "model_name": "HTMLModel",
     "state": {
      "_dom_classes": [],
      "_model_module": "@jupyter-widgets/controls",
      "_model_module_version": "1.5.0",
      "_model_name": "HTMLModel",
      "_view_count": null,
      "_view_module": "@jupyter-widgets/controls",
      "_view_module_version": "1.5.0",
      "_view_name": "HTMLView",
      "description": "",
      "description_tooltip": null,
      "layout": "IPY_MODEL_6cdcb148e8a446be913504e4d9e16634",
      "placeholder": "​",
      "style": "IPY_MODEL_a68d8cc7829f45718e72751c24dc728f",
      "value": " 6144/? [00:00&lt;00:00, 144308.82it/s]"
     }
    },
    "99a1e802632c4a1ab0976776641fce8c": {
     "model_module": "@jupyter-widgets/base",
     "model_module_version": "1.2.0",
     "model_name": "LayoutModel",
     "state": {
      "_model_module": "@jupyter-widgets/base",
      "_model_module_version": "1.2.0",
      "_model_name": "LayoutModel",
      "_view_count": null,
      "_view_module": "@jupyter-widgets/base",
      "_view_module_version": "1.2.0",
      "_view_name": "LayoutView",
      "align_content": null,
      "align_items": null,
      "align_self": null,
      "border": null,
      "bottom": null,
      "display": null,
      "flex": null,
      "flex_flow": null,
      "grid_area": null,
      "grid_auto_columns": null,
      "grid_auto_flow": null,
      "grid_auto_rows": null,
      "grid_column": null,
      "grid_gap": null,
      "grid_row": null,
      "grid_template_areas": null,
      "grid_template_columns": null,
      "grid_template_rows": null,
      "height": null,
      "justify_content": null,
      "justify_items": null,
      "left": null,
      "margin": null,
      "max_height": null,
      "max_width": null,
      "min_height": null,
      "min_width": null,
      "object_fit": null,
      "object_position": null,
      "order": null,
      "overflow": null,
      "overflow_x": null,
      "overflow_y": null,
      "padding": null,
      "right": null,
      "top": null,
      "visibility": null,
      "width": null
     }
    },
    "9db22c25d6474d8288fa40aad726393d": {
     "model_module": "@jupyter-widgets/controls",
     "model_module_version": "1.5.0",
     "model_name": "DescriptionStyleModel",
     "state": {
      "_model_module": "@jupyter-widgets/controls",
      "_model_module_version": "1.5.0",
      "_model_name": "DescriptionStyleModel",
      "_view_count": null,
      "_view_module": "@jupyter-widgets/base",
      "_view_module_version": "1.2.0",
      "_view_name": "StyleView",
      "description_width": ""
     }
    },
    "a68d8cc7829f45718e72751c24dc728f": {
     "model_module": "@jupyter-widgets/controls",
     "model_module_version": "1.5.0",
     "model_name": "DescriptionStyleModel",
     "state": {
      "_model_module": "@jupyter-widgets/controls",
      "_model_module_version": "1.5.0",
      "_model_name": "DescriptionStyleModel",
      "_view_count": null,
      "_view_module": "@jupyter-widgets/base",
      "_view_module_version": "1.2.0",
      "_view_name": "StyleView",
      "description_width": ""
     }
    },
    "abdc7c640853476eb2bd1f4edbbe9d24": {
     "model_module": "@jupyter-widgets/base",
     "model_module_version": "1.2.0",
     "model_name": "LayoutModel",
     "state": {
      "_model_module": "@jupyter-widgets/base",
      "_model_module_version": "1.2.0",
      "_model_name": "LayoutModel",
      "_view_count": null,
      "_view_module": "@jupyter-widgets/base",
      "_view_module_version": "1.2.0",
      "_view_name": "LayoutView",
      "align_content": null,
      "align_items": null,
      "align_self": null,
      "border": null,
      "bottom": null,
      "display": null,
      "flex": null,
      "flex_flow": null,
      "grid_area": null,
      "grid_auto_columns": null,
      "grid_auto_flow": null,
      "grid_auto_rows": null,
      "grid_column": null,
      "grid_gap": null,
      "grid_row": null,
      "grid_template_areas": null,
      "grid_template_columns": null,
      "grid_template_rows": null,
      "height": null,
      "justify_content": null,
      "justify_items": null,
      "left": null,
      "margin": null,
      "max_height": null,
      "max_width": null,
      "min_height": null,
      "min_width": null,
      "object_fit": null,
      "object_position": null,
      "order": null,
      "overflow": null,
      "overflow_x": null,
      "overflow_y": null,
      "padding": null,
      "right": null,
      "top": null,
      "visibility": null,
      "width": null
     }
    },
    "acac05934e5647e8ad42893b8a6c10d1": {
     "model_module": "@jupyter-widgets/base",
     "model_module_version": "1.2.0",
     "model_name": "LayoutModel",
     "state": {
      "_model_module": "@jupyter-widgets/base",
      "_model_module_version": "1.2.0",
      "_model_name": "LayoutModel",
      "_view_count": null,
      "_view_module": "@jupyter-widgets/base",
      "_view_module_version": "1.2.0",
      "_view_name": "LayoutView",
      "align_content": null,
      "align_items": null,
      "align_self": null,
      "border": null,
      "bottom": null,
      "display": null,
      "flex": null,
      "flex_flow": null,
      "grid_area": null,
      "grid_auto_columns": null,
      "grid_auto_flow": null,
      "grid_auto_rows": null,
      "grid_column": null,
      "grid_gap": null,
      "grid_row": null,
      "grid_template_areas": null,
      "grid_template_columns": null,
      "grid_template_rows": null,
      "height": null,
      "justify_content": null,
      "justify_items": null,
      "left": null,
      "margin": null,
      "max_height": null,
      "max_width": null,
      "min_height": null,
      "min_width": null,
      "object_fit": null,
      "object_position": null,
      "order": null,
      "overflow": null,
      "overflow_x": null,
      "overflow_y": null,
      "padding": null,
      "right": null,
      "top": null,
      "visibility": null,
      "width": null
     }
    },
    "b1c6d5b7f8504d84a9782a36e6491712": {
     "model_module": "@jupyter-widgets/controls",
     "model_module_version": "1.5.0",
     "model_name": "HBoxModel",
     "state": {
      "_dom_classes": [],
      "_model_module": "@jupyter-widgets/controls",
      "_model_module_version": "1.5.0",
      "_model_name": "HBoxModel",
      "_view_count": null,
      "_view_module": "@jupyter-widgets/controls",
      "_view_module_version": "1.5.0",
      "_view_name": "HBoxView",
      "box_style": "",
      "children": [
       "IPY_MODEL_24139599cc964b0283c787010d446db3",
       "IPY_MODEL_7904076e1ed94fe7ae911266d6f7cc29",
       "IPY_MODEL_8b5cad589d3e4d65a86420980287059a"
      ],
      "layout": "IPY_MODEL_df911c163a5a49f982caafcbced21920"
     }
    },
    "b1d7c852c19d4178974246cef1db19ca": {
     "model_module": "@jupyter-widgets/controls",
     "model_module_version": "1.5.0",
     "model_name": "HBoxModel",
     "state": {
      "_dom_classes": [],
      "_model_module": "@jupyter-widgets/controls",
      "_model_module_version": "1.5.0",
      "_model_name": "HBoxModel",
      "_view_count": null,
      "_view_module": "@jupyter-widgets/controls",
      "_view_module_version": "1.5.0",
      "_view_name": "HBoxView",
      "box_style": "",
      "children": [
       "IPY_MODEL_182a074481514dbc9f92a1a31923be73",
       "IPY_MODEL_0ca774af453d49e586dd4ac4fdac9663",
       "IPY_MODEL_3129bcbfd8ad40cb8797f60fe984fe3c"
      ],
      "layout": "IPY_MODEL_77f5bffcf0494c3db33df30552e15b8e"
     }
    },
    "b39d8e8b9e1647449544903cc5a2ba34": {
     "model_module": "@jupyter-widgets/base",
     "model_module_version": "1.2.0",
     "model_name": "LayoutModel",
     "state": {
      "_model_module": "@jupyter-widgets/base",
      "_model_module_version": "1.2.0",
      "_model_name": "LayoutModel",
      "_view_count": null,
      "_view_module": "@jupyter-widgets/base",
      "_view_module_version": "1.2.0",
      "_view_name": "LayoutView",
      "align_content": null,
      "align_items": null,
      "align_self": null,
      "border": null,
      "bottom": null,
      "display": null,
      "flex": null,
      "flex_flow": null,
      "grid_area": null,
      "grid_auto_columns": null,
      "grid_auto_flow": null,
      "grid_auto_rows": null,
      "grid_column": null,
      "grid_gap": null,
      "grid_row": null,
      "grid_template_areas": null,
      "grid_template_columns": null,
      "grid_template_rows": null,
      "height": null,
      "justify_content": null,
      "justify_items": null,
      "left": null,
      "margin": null,
      "max_height": null,
      "max_width": null,
      "min_height": null,
      "min_width": null,
      "object_fit": null,
      "object_position": null,
      "order": null,
      "overflow": null,
      "overflow_x": null,
      "overflow_y": null,
      "padding": null,
      "right": null,
      "top": null,
      "visibility": null,
      "width": null
     }
    },
    "beeeefdc08e24464ba4369da9cd7faea": {
     "model_module": "@jupyter-widgets/controls",
     "model_module_version": "1.5.0",
     "model_name": "ProgressStyleModel",
     "state": {
      "_model_module": "@jupyter-widgets/controls",
      "_model_module_version": "1.5.0",
      "_model_name": "ProgressStyleModel",
      "_view_count": null,
      "_view_module": "@jupyter-widgets/base",
      "_view_module_version": "1.2.0",
      "_view_name": "StyleView",
      "bar_color": null,
      "description_width": ""
     }
    },
    "c0494a7e04d549b5a9323fa43d9ad3b2": {
     "model_module": "@jupyter-widgets/controls",
     "model_module_version": "1.5.0",
     "model_name": "DescriptionStyleModel",
     "state": {
      "_model_module": "@jupyter-widgets/controls",
      "_model_module_version": "1.5.0",
      "_model_name": "DescriptionStyleModel",
      "_view_count": null,
      "_view_module": "@jupyter-widgets/base",
      "_view_module_version": "1.2.0",
      "_view_name": "StyleView",
      "description_width": ""
     }
    },
    "c8805dcf332245e18439d109c50466d2": {
     "model_module": "@jupyter-widgets/controls",
     "model_module_version": "1.5.0",
     "model_name": "DescriptionStyleModel",
     "state": {
      "_model_module": "@jupyter-widgets/controls",
      "_model_module_version": "1.5.0",
      "_model_name": "DescriptionStyleModel",
      "_view_count": null,
      "_view_module": "@jupyter-widgets/base",
      "_view_module_version": "1.2.0",
      "_view_name": "StyleView",
      "description_width": ""
     }
    },
    "cd2038d9851a4a4d8c7e107edf02cca1": {
     "model_module": "@jupyter-widgets/controls",
     "model_module_version": "1.5.0",
     "model_name": "ProgressStyleModel",
     "state": {
      "_model_module": "@jupyter-widgets/controls",
      "_model_module_version": "1.5.0",
      "_model_name": "ProgressStyleModel",
      "_view_count": null,
      "_view_module": "@jupyter-widgets/base",
      "_view_module_version": "1.2.0",
      "_view_name": "StyleView",
      "bar_color": null,
      "description_width": ""
     }
    },
    "cf57be0a6c7340ca8b54e0809ba0fbc9": {
     "model_module": "@jupyter-widgets/controls",
     "model_module_version": "1.5.0",
     "model_name": "HTMLModel",
     "state": {
      "_dom_classes": [],
      "_model_module": "@jupyter-widgets/controls",
      "_model_module_version": "1.5.0",
      "_model_name": "HTMLModel",
      "_view_count": null,
      "_view_module": "@jupyter-widgets/controls",
      "_view_module_version": "1.5.0",
      "_view_name": "HTMLView",
      "description": "",
      "description_tooltip": null,
      "layout": "IPY_MODEL_dec4e52f4ae04b298abc0f125c300534",
      "placeholder": "​",
      "style": "IPY_MODEL_9db22c25d6474d8288fa40aad726393d",
      "value": ""
     }
    },
    "d9277c7a992c4f9491530f6d443fc68e": {
     "model_module": "@jupyter-widgets/controls",
     "model_module_version": "1.5.0",
     "model_name": "HTMLModel",
     "state": {
      "_dom_classes": [],
      "_model_module": "@jupyter-widgets/controls",
      "_model_module_version": "1.5.0",
      "_model_name": "HTMLModel",
      "_view_count": null,
      "_view_module": "@jupyter-widgets/controls",
      "_view_module_version": "1.5.0",
      "_view_name": "HTMLView",
      "description": "",
      "description_tooltip": null,
      "layout": "IPY_MODEL_b39d8e8b9e1647449544903cc5a2ba34",
      "placeholder": "​",
      "style": "IPY_MODEL_c8805dcf332245e18439d109c50466d2",
      "value": " 26422272/? [00:01&lt;00:00, 26789266.56it/s]"
     }
    },
    "dec4e52f4ae04b298abc0f125c300534": {
     "model_module": "@jupyter-widgets/base",
     "model_module_version": "1.2.0",
     "model_name": "LayoutModel",
     "state": {
      "_model_module": "@jupyter-widgets/base",
      "_model_module_version": "1.2.0",
      "_model_name": "LayoutModel",
      "_view_count": null,
      "_view_module": "@jupyter-widgets/base",
      "_view_module_version": "1.2.0",
      "_view_name": "LayoutView",
      "align_content": null,
      "align_items": null,
      "align_self": null,
      "border": null,
      "bottom": null,
      "display": null,
      "flex": null,
      "flex_flow": null,
      "grid_area": null,
      "grid_auto_columns": null,
      "grid_auto_flow": null,
      "grid_auto_rows": null,
      "grid_column": null,
      "grid_gap": null,
      "grid_row": null,
      "grid_template_areas": null,
      "grid_template_columns": null,
      "grid_template_rows": null,
      "height": null,
      "justify_content": null,
      "justify_items": null,
      "left": null,
      "margin": null,
      "max_height": null,
      "max_width": null,
      "min_height": null,
      "min_width": null,
      "object_fit": null,
      "object_position": null,
      "order": null,
      "overflow": null,
      "overflow_x": null,
      "overflow_y": null,
      "padding": null,
      "right": null,
      "top": null,
      "visibility": null,
      "width": null
     }
    },
    "df911c163a5a49f982caafcbced21920": {
     "model_module": "@jupyter-widgets/base",
     "model_module_version": "1.2.0",
     "model_name": "LayoutModel",
     "state": {
      "_model_module": "@jupyter-widgets/base",
      "_model_module_version": "1.2.0",
      "_model_name": "LayoutModel",
      "_view_count": null,
      "_view_module": "@jupyter-widgets/base",
      "_view_module_version": "1.2.0",
      "_view_name": "LayoutView",
      "align_content": null,
      "align_items": null,
      "align_self": null,
      "border": null,
      "bottom": null,
      "display": null,
      "flex": null,
      "flex_flow": null,
      "grid_area": null,
      "grid_auto_columns": null,
      "grid_auto_flow": null,
      "grid_auto_rows": null,
      "grid_column": null,
      "grid_gap": null,
      "grid_row": null,
      "grid_template_areas": null,
      "grid_template_columns": null,
      "grid_template_rows": null,
      "height": null,
      "justify_content": null,
      "justify_items": null,
      "left": null,
      "margin": null,
      "max_height": null,
      "max_width": null,
      "min_height": null,
      "min_width": null,
      "object_fit": null,
      "object_position": null,
      "order": null,
      "overflow": null,
      "overflow_x": null,
      "overflow_y": null,
      "padding": null,
      "right": null,
      "top": null,
      "visibility": null,
      "width": null
     }
    },
    "ead636b58dfc422596f2e5e53119c830": {
     "model_module": "@jupyter-widgets/controls",
     "model_module_version": "1.5.0",
     "model_name": "FloatProgressModel",
     "state": {
      "_dom_classes": [],
      "_model_module": "@jupyter-widgets/controls",
      "_model_module_version": "1.5.0",
      "_model_name": "FloatProgressModel",
      "_view_count": null,
      "_view_module": "@jupyter-widgets/controls",
      "_view_module_version": "1.5.0",
      "_view_name": "ProgressView",
      "bar_style": "success",
      "description": "",
      "description_tooltip": null,
      "layout": "IPY_MODEL_99a1e802632c4a1ab0976776641fce8c",
      "max": 4422102,
      "min": 0,
      "orientation": "horizontal",
      "style": "IPY_MODEL_108907707fb246c6aa2eb0055f22b6ad",
      "value": 4422102
     }
    },
    "eaf3615362384da3961655307f87bc3a": {
     "model_module": "@jupyter-widgets/base",
     "model_module_version": "1.2.0",
     "model_name": "LayoutModel",
     "state": {
      "_model_module": "@jupyter-widgets/base",
      "_model_module_version": "1.2.0",
      "_model_name": "LayoutModel",
      "_view_count": null,
      "_view_module": "@jupyter-widgets/base",
      "_view_module_version": "1.2.0",
      "_view_name": "LayoutView",
      "align_content": null,
      "align_items": null,
      "align_self": null,
      "border": null,
      "bottom": null,
      "display": null,
      "flex": null,
      "flex_flow": null,
      "grid_area": null,
      "grid_auto_columns": null,
      "grid_auto_flow": null,
      "grid_auto_rows": null,
      "grid_column": null,
      "grid_gap": null,
      "grid_row": null,
      "grid_template_areas": null,
      "grid_template_columns": null,
      "grid_template_rows": null,
      "height": null,
      "justify_content": null,
      "justify_items": null,
      "left": null,
      "margin": null,
      "max_height": null,
      "max_width": null,
      "min_height": null,
      "min_width": null,
      "object_fit": null,
      "object_position": null,
      "order": null,
      "overflow": null,
      "overflow_x": null,
      "overflow_y": null,
      "padding": null,
      "right": null,
      "top": null,
      "visibility": null,
      "width": null
     }
    },
    "f0e07a02ccce46caaccca01b8fa93686": {
     "model_module": "@jupyter-widgets/controls",
     "model_module_version": "1.5.0",
     "model_name": "DescriptionStyleModel",
     "state": {
      "_model_module": "@jupyter-widgets/controls",
      "_model_module_version": "1.5.0",
      "_model_name": "DescriptionStyleModel",
      "_view_count": null,
      "_view_module": "@jupyter-widgets/base",
      "_view_module_version": "1.2.0",
      "_view_name": "StyleView",
      "description_width": ""
     }
    },
    "f311b7a94b244f87b5badd6824089d38": {
     "model_module": "@jupyter-widgets/base",
     "model_module_version": "1.2.0",
     "model_name": "LayoutModel",
     "state": {
      "_model_module": "@jupyter-widgets/base",
      "_model_module_version": "1.2.0",
      "_model_name": "LayoutModel",
      "_view_count": null,
      "_view_module": "@jupyter-widgets/base",
      "_view_module_version": "1.2.0",
      "_view_name": "LayoutView",
      "align_content": null,
      "align_items": null,
      "align_self": null,
      "border": null,
      "bottom": null,
      "display": null,
      "flex": null,
      "flex_flow": null,
      "grid_area": null,
      "grid_auto_columns": null,
      "grid_auto_flow": null,
      "grid_auto_rows": null,
      "grid_column": null,
      "grid_gap": null,
      "grid_row": null,
      "grid_template_areas": null,
      "grid_template_columns": null,
      "grid_template_rows": null,
      "height": null,
      "justify_content": null,
      "justify_items": null,
      "left": null,
      "margin": null,
      "max_height": null,
      "max_width": null,
      "min_height": null,
      "min_width": null,
      "object_fit": null,
      "object_position": null,
      "order": null,
      "overflow": null,
      "overflow_x": null,
      "overflow_y": null,
      "padding": null,
      "right": null,
      "top": null,
      "visibility": null,
      "width": null
     }
    },
    "f38390085e504e048e77154395244471": {
     "model_module": "@jupyter-widgets/base",
     "model_module_version": "1.2.0",
     "model_name": "LayoutModel",
     "state": {
      "_model_module": "@jupyter-widgets/base",
      "_model_module_version": "1.2.0",
      "_model_name": "LayoutModel",
      "_view_count": null,
      "_view_module": "@jupyter-widgets/base",
      "_view_module_version": "1.2.0",
      "_view_name": "LayoutView",
      "align_content": null,
      "align_items": null,
      "align_self": null,
      "border": null,
      "bottom": null,
      "display": null,
      "flex": null,
      "flex_flow": null,
      "grid_area": null,
      "grid_auto_columns": null,
      "grid_auto_flow": null,
      "grid_auto_rows": null,
      "grid_column": null,
      "grid_gap": null,
      "grid_row": null,
      "grid_template_areas": null,
      "grid_template_columns": null,
      "grid_template_rows": null,
      "height": null,
      "justify_content": null,
      "justify_items": null,
      "left": null,
      "margin": null,
      "max_height": null,
      "max_width": null,
      "min_height": null,
      "min_width": null,
      "object_fit": null,
      "object_position": null,
      "order": null,
      "overflow": null,
      "overflow_x": null,
      "overflow_y": null,
      "padding": null,
      "right": null,
      "top": null,
      "visibility": null,
      "width": null
     }
    }
   }
  }
 },
 "nbformat": 4,
 "nbformat_minor": 4
}
