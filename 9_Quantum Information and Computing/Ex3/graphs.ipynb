{
 "cells": [
  {
   "cell_type": "code",
   "execution_count": 1,
   "metadata": {},
   "outputs": [],
   "source": [
    "import matplotlib.pyplot as plt\n",
    "import numpy as np\n",
    "from sklearn.metrics import mean_squared_error"
   ]
  },
  {
   "cell_type": "markdown",
   "metadata": {},
   "source": [
    "# Exercise 1"
   ]
  },
  {
   "cell_type": "code",
   "execution_count": 2,
   "metadata": {},
   "outputs": [
    {
     "name": "stdout",
     "output_type": "stream",
     "text": [
      "MSE matmul_byrow polynomial(2) 6.232919922618823\n",
      "MSE matmul_byrow polynomial(3) 2.3882496655430403\n",
      "MSE matmul_byrow polynomial(4) 2.3569296558770954\n",
      "MSE matmul_bycol polynomial(2) 0.471708014022326\n",
      "MSE matmul_bycol polynomial(3) 0.12669657498068326\n",
      "MSE matmul_bycol polynomial(4) 0.12446942612224696\n",
      "MSE matmul_fortran polynomial(2) 0.00010740866351548049\n",
      "MSE matmul_fortran polynomial(3) 5.9131180546250815e-05\n",
      "MSE matmul_fortran polynomial(4) 5.71847035927487e-05\n"
     ]
    },
    {
     "data": {
      "text/plain": [
       "<Figure size 432x288 with 0 Axes>"
      ]
     },
     "metadata": {},
     "output_type": "display_data"
    }
   ],
   "source": [
    "matmul_row = np.loadtxt('data/matmul_byrow.txt')\n",
    "matmul_col = np.loadtxt('data/matmul_bycol.txt')\n",
    "matmul_for = np.loadtxt('data/matmul_fortran.txt')\n",
    "\n",
    "N_min = 20\n",
    "N_max = 2020\n",
    "points  = 20\n",
    "\n",
    "N_vector = np.arange(N_min, N_max, points)\n",
    "\n",
    "row_fit_2 = np.polyfit(N_vector, matmul_row, deg=2)\n",
    "col_fit_2 = np.polyfit(N_vector, matmul_col, deg=2)\n",
    "for_fit_2 = np.polyfit(N_vector, matmul_for, deg=2)\n",
    "np.savetxt('data/row_fit_2.txt',row_fit_2)\n",
    "np.savetxt('data/col_fit_2.txt',col_fit_2)\n",
    "np.savetxt('data/for_fit_2.txt',for_fit_2)\n",
    "\n",
    "\n",
    "row_fit_3 = np.polyfit(N_vector, matmul_row, deg=3)\n",
    "col_fit_3 = np.polyfit(N_vector, matmul_col, deg=3)\n",
    "for_fit_3 = np.polyfit(N_vector, matmul_for, deg=3)\n",
    "np.savetxt('data/row_fit_3.txt',row_fit_3)\n",
    "np.savetxt('data/col_fit_3.txt',col_fit_3)\n",
    "np.savetxt('data/for_fit_3.txt',for_fit_3)\n",
    "\n",
    "row_fit_4 = np.polyfit(N_vector, matmul_row, deg=4)\n",
    "col_fit_4 = np.polyfit(N_vector, matmul_col, deg=4)\n",
    "for_fit_4 = np.polyfit(N_vector, matmul_for, deg=4)\n",
    "np.savetxt('data/row_fit_4.txt',row_fit_4)\n",
    "np.savetxt('data/col_fit_4.txt',col_fit_4)\n",
    "np.savetxt('data/for_fit_4.txt',for_fit_4)\n",
    "\n",
    "print('MSE matmul_byrow polynomial(2)',mean_squared_error(matmul_row, np.poly1d(row_fit_2)(N_vector)))\n",
    "print('MSE matmul_byrow polynomial(3)',mean_squared_error(matmul_row, np.poly1d(row_fit_3)(N_vector)))\n",
    "print('MSE matmul_byrow polynomial(4)',mean_squared_error(matmul_row, np.poly1d(row_fit_4)(N_vector)))\n",
    "print('MSE matmul_bycol polynomial(2)',mean_squared_error(matmul_col, np.poly1d(col_fit_2)(N_vector)))\n",
    "print('MSE matmul_bycol polynomial(3)',mean_squared_error(matmul_col, np.poly1d(col_fit_3)(N_vector)))\n",
    "print('MSE matmul_bycol polynomial(4)',mean_squared_error(matmul_col, np.poly1d(col_fit_4)(N_vector)))\n",
    "print('MSE matmul_fortran polynomial(2)',mean_squared_error(matmul_for, np.poly1d(for_fit_2)(N_vector)))\n",
    "print('MSE matmul_fortran polynomial(3)',mean_squared_error(matmul_for, np.poly1d(for_fit_3)(N_vector)))\n",
    "print('MSE matmul_fortran polynomial(4)',mean_squared_error(matmul_for, np.poly1d(for_fit_4)(N_vector)))\n",
    "\n",
    "xp = np.linspace(N_vector[0],N_vector[-1],1000)\n",
    "\n",
    "fig = plt.figure()\n",
    "plt.plot(N_vector, matmul_row, label = 'matmul_byrow')\n",
    "plt.plot(xp, np.poly1d(row_fit_2)(xp),  label=\"$n=2\\,(MSE= 6.23)$\")\n",
    "plt.plot(xp, np.poly1d(row_fit_3)(xp),  label=\"$n=3\\,(MSE= 2.39)$\")\n",
    "plt.plot(xp, np.poly1d(row_fit_4)(xp),  label=\"$n=4\\,(MSE= 2.36)$\")\n",
    "plt.plot(N_vector, matmul_col, label = 'matmul_bycol')\n",
    "plt.plot(xp, np.poly1d(col_fit_2)(xp),  label='$n=2\\,(MSE= 0.472)$')\n",
    "plt.plot(xp, np.poly1d(col_fit_3)(xp),  label='$n=3\\,(MSE= 0.127)$')\n",
    "plt.plot(xp, np.poly1d(col_fit_4)(xp),  label='$n=4\\,(MSE= 0.124)$')\n",
    "plt.legend()\n",
    "plt.xlabel('$n_{row}=n_{col}$')\n",
    "plt.ylabel('CPU Time [s]')\n",
    "plt.title('[matmul_byrow, matmul_bycol]\\n CPU time vs matrix size + polynomial fit deg($n$)')\n",
    "plt.grid()\n",
    "\n",
    "plt.savefig('matmulrowcolfit.pdf')\n",
    "\n",
    "plt.close()\n",
    "plt.cla()\n",
    "plt.clf()\n",
    "\n",
    "fig = plt.figure()\n",
    "plt.plot(N_vector, matmul_for, label = 'matmul_for')\n",
    "plt.plot(xp, np.poly1d(for_fit_2)(xp),  label='$n=2\\,(MSE= 10.7\\cdot 10^{-5})$')\n",
    "plt.plot(xp, np.poly1d(for_fit_3)(xp),  label='$n=3\\,(MSE= 5.91\\cdot 10^{-5})$')\n",
    "plt.plot(xp, np.poly1d(for_fit_4)(xp),  label='$n=4\\,(MSE= 5.72\\cdot 10^{-5})$')\n",
    "plt.legend()\n",
    "plt.xlabel('$n_{row}=n_{col}$')\n",
    "plt.ylabel('CPU Time [s]')\n",
    "plt.title('[MATMUL]\\n CPU time vs matrix size + polynomial fit deg($n$)')\n",
    "plt.grid()\n",
    "plt.savefig('matmulforfit.pdf')\n",
    "plt.close()\n",
    "plt.cla()\n",
    "plt.clf()"
   ]
  },
  {
   "cell_type": "markdown",
   "metadata": {},
   "source": [
    "# Exercise 3"
   ]
  },
  {
   "cell_type": "code",
   "execution_count": 3,
   "metadata": {},
   "outputs": [],
   "source": [
    "import matplotlib.pyplot as plt\n",
    "import numpy as np\n",
    "import seaborn as sns\n",
    "from scipy.optimize import curve_fit\n",
    "\n",
    "fig = plt.figure()\n",
    "\n",
    "def func(s, alpha, beta, a, b):    \n",
    "    return (a*s**alpha*np.exp(-b*s**beta, dtype=np.float64))\n",
    "\n",
    "x = np.empty(199920, dtype=np.float64)\n",
    "file_in = open('data/herm_eigenvalues_spacing_norm.dat', 'r')\n",
    "for i,y in enumerate(file_in.read().split('\\n')):\n",
    "    x[i]=np.float64(y)\n",
    "\n",
    "\n",
    "z = np.empty(199920, dtype=np.float64)\n",
    "file_in = open('data/diag_eigenvalues_spacing_norm.dat', 'r')\n",
    "for i,y in enumerate(file_in.read().split('\\n')):\n",
    "    z[i]=np.float64(y)\n",
    "\n",
    "print(max(x))\n",
    "\n",
    "plt.xlim(0,5)\n",
    "\n",
    "counts_x,bin_edges_x = np.histogram(x,200, density=True)\n",
    "counts_z,bin_edges_z = np.histogram(z,200, density=True)\n",
    "\n",
    "bin_centres_x = (bin_edges_x[:-1] + bin_edges_x[1:])/2.\n",
    "bin_centres_z = (bin_edges_z[:-1] + bin_edges_z[1:])/2.\n",
    "\n",
    "popt_x, pcov_x = curve_fit(func, bin_centres_x, counts_x)\n",
    "popt_z, pcov_z = curve_fit(func, bin_centres_z, counts_z)\n",
    "\n",
    "plt.hist(x, 200, density=True, alpha=0.4)\n",
    "plt.hist(z, 200, density=True,color='red', alpha=0.3)\n",
    "\n",
    "print('x',popt_x)\n",
    "print('sqrt',np.sqrt(pcov_x[0][0]))\n",
    "print('sqrt',np.sqrt(pcov_x[1][1]))\n",
    "print('sqrt',np.sqrt(pcov_x[2][2]))\n",
    "print('sqrt',np.sqrt(pcov_x[3][3]))\n",
    "\n",
    "print('z',popt_z)\n",
    "print('sqrtz',np.sqrt(pcov_z[0][0]))\n",
    "print('sqrtz',np.sqrt(pcov_z[1][1]))\n",
    "print('sqrtz',np.sqrt(pcov_z[2][2]))\n",
    "print('sqrtz',np.sqrt(pcov_z[3][3]))\n",
    "results_x=func(bin_centres_x, popt_x[0], popt_x[1], popt_x[2], popt_x[3])\n",
    "results_z=func(bin_centres_z, popt_z[0], popt_z[1], popt_z[2], popt_z[3])\n",
    "\n",
    "plt.plot(bin_centres_x,results_x, label='Generic: $P(s)=10\\cdot s^{2.42}e^{-2.5\\cdot s^{1.40}}$',color='blue', ls='dashed', lw=2)\n",
    "plt.plot(bin_centres_z, results_z,label='Diagonal: $P(s)=1.08\\cdot s^{0.024}e^{-1.08\\cdot s^{0.96}}$', color='red', ls='dashed', lw=2)\n",
    "plt.grid()\n",
    "plt.title('Normalized eigenvalues spacing\\n for a random Hermitian matrix')\n",
    "plt.legend(loc=0)\n",
    "plt.xlabel('s')\n",
    "plt.ylabel('P(s)')\n",
    "plt.savefig('graphs/normalized_spacing.pdf')\n",
    "\n",
    "plt.close()\n",
    "plt.cla()\n",
    "plt.clf()\n"
   ]
  },
  {
   "cell_type": "code",
   "execution_count": 4,
   "metadata": {},
   "outputs": [
    {
     "name": "stderr",
     "output_type": "stream",
     "text": [
      "<ipython-input-20-507a65b551c3>:9: RuntimeWarning: overflow encountered in exp\n",
      "  return (a*s**alpha*np.exp(-b*s**beta))\n"
     ]
    },
    {
     "name": "stdout",
     "output_type": "stream",
     "text": [
      "x [ 2.55700161  1.33813987 13.17039899  2.76631456]\n",
      "sqrt 0.085774253930497\n",
      "sqrt 0.041701379225783805\n",
      "sqrt 2.0211879271767215\n",
      "sqrt 0.1550603732882939\n",
      "z [0.00300105 0.9963697  1.01746998 1.01070877]\n",
      "sqrtz 0.0045065073040166355\n",
      "sqrtz 0.011191314766763105\n",
      "sqrtz 0.015614390629384337\n",
      "sqrtz 0.016729695019945433\n"
     ]
    },
    {
     "data": {
      "text/plain": [
       "<Figure size 432x288 with 0 Axes>"
      ]
     },
     "metadata": {},
     "output_type": "display_data"
    },
    {
     "name": "stderr",
     "output_type": "stream",
     "text": [
      "<ipython-input-4-507a65b551c3>:9: RuntimeWarning: overflow encountered in exp\n",
      "  return (a*s**alpha*np.exp(-b*s**beta))\n"
     ]
    },
    {
     "name": "stdout",
     "output_type": "stream",
     "text": [
      "x [ 2.55700161  1.33813987 13.17039899  2.76631456]\n",
      "sqrt 0.085774253930497\n",
      "sqrt 0.041701379225783805\n",
      "sqrt 2.0211879271767215\n",
      "sqrt 0.1550603732882939\n",
      "z [0.00300105 0.9963697  1.01746998 1.01070877]\n",
      "sqrtz 0.0045065073040166355\n",
      "sqrtz 0.011191314766763105\n",
      "sqrtz 0.015614390629384337\n",
      "sqrtz 0.016729695019945433\n"
     ]
    },
    {
     "data": {
      "text/plain": [
       "<Figure size 432x288 with 0 Axes>"
      ]
     },
     "metadata": {},
     "output_type": "display_data"
    }
   ],
   "source": [
    "import matplotlib.pyplot as plt\n",
    "import numpy as np\n",
    "import seaborn as sns\n",
    "from scipy.optimize import curve_fit\n",
    "\n",
    "fig = plt.figure()\n",
    "\n",
    "def func(s, alpha, beta, a, b):    \n",
    "    return (a*s**alpha*np.exp(-b*s**beta))\n",
    "binwidth=0.05\n",
    "\n",
    "x = np.empty(199920, dtype=np.float64)\n",
    "file_in = open('data/herm_eigenvalues_spacing_norm.dat', 'r')\n",
    "for i,y in enumerate(file_in.read().split('\\n')):\n",
    "    x[i]=np.float64(y)\n",
    "\n",
    "\n",
    "z = np.empty(199920, dtype=np.float64)\n",
    "file_in = open('data/diag_eigenvalues_spacing_norm.dat', 'r')\n",
    "for i,y in enumerate(file_in.read().split('\\n')):\n",
    "    z[i]=np.float64(y)\n",
    "\n",
    "\n",
    "x=x[x<3]\n",
    "bin_heights_x, bin_borders_x, _ = plt.hist(x, bins=np.arange(0, 5 + binwidth, binwidth), label='Generic Hermitian', alpha=0.3,color='blue', density=True)\n",
    "bin_heights_z, bin_borders_z, _ = plt.hist(z, bins=np.arange(0, 5 + binwidth, binwidth), label='Diagonal', alpha=0.3,color='red', density=True)\n",
    "bin_center_x = bin_borders_x[:-1] + np.diff(bin_borders_x) / 2\n",
    "bin_center_z = bin_borders_z[:-1] + np.diff(bin_borders_z) / 2\n",
    "popt_x, pcov_x = curve_fit(func, bin_center_x, bin_heights_x)\n",
    "popt_z, pcov_z = curve_fit(func, bin_center_z, bin_heights_z)\n",
    "\n",
    "plt.xlim(0,5)\n",
    "print('x',popt_x)\n",
    "print('sqrt',np.sqrt(pcov_x[0][0]))\n",
    "print('sqrt',np.sqrt(pcov_x[1][1]))\n",
    "print('sqrt',np.sqrt(pcov_x[2][2]))\n",
    "print('sqrt',np.sqrt(pcov_x[3][3]))\n",
    "\n",
    "print('z',popt_z)\n",
    "print('sqrtz',np.sqrt(pcov_z[0][0]))\n",
    "print('sqrtz',np.sqrt(pcov_z[1][1]))\n",
    "print('sqrtz',np.sqrt(pcov_z[2][2]))\n",
    "print('sqrtz',np.sqrt(pcov_z[3][3]))\n",
    "results_x=func(bin_center_x, popt_x[0], popt_x[1], popt_x[2], popt_x[3])\n",
    "results_z=func(bin_center_z, popt_z[0], popt_z[1], popt_z[2], popt_z[3])\n",
    "\n",
    "plt.plot(bin_center_x,results_x,label='Generic: $P(s)=13\\cdot s^{2.56}e^{-2.8\\cdot s^{1.33}}$',color='blue', ls='dashed', lw=2)\n",
    "plt.plot(bin_center_z, results_z,label='Diagonal: $P(s)=1.02\\cdot s^{0.003}e^{-1.01\\cdot s^{1.00}}$', color='red', ls='dashed', lw=2)\n",
    "plt.grid()\n",
    "plt.title('Normalized eigenvalues spacing\\n for a random Hermitian matrix')\n",
    "plt.legend(loc=0)\n",
    "plt.xlabel('s')\n",
    "plt.ylabel('P(s)')\n",
    "plt.savefig('graphs/normalized_spacing.pdf')\n",
    "\n",
    "plt.close()\n",
    "plt.cla()\n",
    "plt.clf()"
   ]
  }
 ],
 "metadata": {
  "interpreter": {
   "hash": "aee8b7b246df8f9039afb4144a1f6fd8d2ca17a180786b69acc140d282b71a49"
  },
  "kernelspec": {
   "display_name": "Python 3.9.4 64-bit",
   "language": "python",
   "name": "python3"
  },
  "language_info": {
   "codemirror_mode": {
    "name": "ipython",
    "version": 3
   },
   "file_extension": ".py",
   "mimetype": "text/x-python",
   "name": "python",
   "nbconvert_exporter": "python",
   "pygments_lexer": "ipython3",
   "version": "3.8.7"
  },
  "orig_nbformat": 4
 },
 "nbformat": 4,
 "nbformat_minor": 2
}
